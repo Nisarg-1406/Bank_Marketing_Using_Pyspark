{
  "nbformat": 4,
  "nbformat_minor": 0,
  "metadata": {
    "application/vnd.databricks.v1+notebook": {
      "dashboards": [],
      "language": "python",
      "notebookName": "Bank_Term_Deposit_Project",
      "notebookOrigID": 1525679477759145,
      "widgets": {}
    },
    "kernelspec": {
      "display_name": "Python 3",
      "language": "python",
      "name": "python3"
    },
    "language_info": {
      "codemirror_mode": {
        "name": "ipython",
        "version": 3
      },
      "file_extension": ".py",
      "mimetype": "text/x-python",
      "name": "python",
      "nbconvert_exporter": "python",
      "pygments_lexer": "ipython3",
      "version": "3.8.5"
    },
    "colab": {
      "name": "Bank_Term_Deposit_Project.ipynb",
      "provenance": [],
      "include_colab_link": true
    }
  },
  "cells": [
    {
      "cell_type": "markdown",
      "metadata": {
        "id": "view-in-github",
        "colab_type": "text"
      },
      "source": [
        "<a href=\"https://colab.research.google.com/github/Nisarg-1406/Bank_Marketing_Using_Pyspark/blob/main/Bank_Term_Deposit_Project.ipynb\" target=\"_parent\"><img src=\"https://colab.research.google.com/assets/colab-badge.svg\" alt=\"Open In Colab\"/></a>"
      ]
    },
    {
      "cell_type": "code",
      "metadata": {
        "application/vnd.databricks.v1+cell": {
          "inputWidgets": {},
          "nuid": "2048345a-16e4-44d6-a1a7-be7477e0e1d6",
          "showTitle": false,
          "title": ""
        },
        "id": "zv5XLHxHk5Ua",
        "outputId": "5329308d-d1ef-4356-b8c3-4b1ed91ee59e"
      },
      "source": [
        "# Three main algorithm classifiers are tested which are Logistic regression, Decision trees and Random forest.\n",
        "# Different metrics are computed after hyperparameter tunings using 5-fold cross validation to evaluate the models corresponding to these algorithms.\n",
        "# Another Algorithms like Gradient-boosted tree classifier, NaiveBayes, Support vector Machine takes more amount of time for the execution as this dataset is not much complex dataset. \n",
        "# I have provided the code explanation as comments for the concept and syntax for lines of codes in this file.  "
      ],
      "execution_count": null,
      "outputs": [
        {
          "output_type": "display_data",
          "data": {
            "text/html": [
              "<style scoped>\n",
              "  .ansiout {\n",
              "    display: block;\n",
              "    unicode-bidi: embed;\n",
              "    white-space: pre-wrap;\n",
              "    word-wrap: break-word;\n",
              "    word-break: break-all;\n",
              "    font-family: \"Source Code Pro\", \"Menlo\", monospace;;\n",
              "    font-size: 13px;\n",
              "    color: #555;\n",
              "    margin-left: 4px;\n",
              "    line-height: 19px;\n",
              "  }\n",
              "</style>"
            ]
          },
          "metadata": {
            "tags": [],
            "application/vnd.databricks.v1+output": {
              "arguments": {},
              "data": "",
              "errorSummary": "",
              "type": "ipynbError"
            }
          }
        }
      ]
    },
    {
      "cell_type": "code",
      "metadata": {
        "application/vnd.databricks.v1+cell": {
          "inputWidgets": {},
          "nuid": "2951b8e0-fa22-40c0-8811-cc7cac2c6873",
          "showTitle": false,
          "title": ""
        },
        "id": "9wecG40Lk5Uj",
        "outputId": "28012e17-65f5-481e-87d9-4f5ff2b32608"
      },
      "source": [
        "from pyspark.sql import SparkSession\n",
        "from pyspark.ml import Pipeline"
      ],
      "execution_count": null,
      "outputs": [
        {
          "output_type": "display_data",
          "data": {
            "text/html": [
              "<style scoped>\n",
              "  .ansiout {\n",
              "    display: block;\n",
              "    unicode-bidi: embed;\n",
              "    white-space: pre-wrap;\n",
              "    word-wrap: break-word;\n",
              "    word-break: break-all;\n",
              "    font-family: \"Source Code Pro\", \"Menlo\", monospace;;\n",
              "    font-size: 13px;\n",
              "    color: #555;\n",
              "    margin-left: 4px;\n",
              "    line-height: 19px;\n",
              "  }\n",
              "</style>\n",
              "<div class=\"ansiout\"></div>"
            ]
          },
          "metadata": {
            "tags": [],
            "application/vnd.databricks.v1+output": {
              "addedWidgets": {},
              "arguments": {},
              "data": "<div class=\"ansiout\"></div>",
              "datasetInfos": [],
              "removedWidgets": [],
              "type": "html"
            }
          }
        }
      ]
    },
    {
      "cell_type": "code",
      "metadata": {
        "application/vnd.databricks.v1+cell": {
          "inputWidgets": {},
          "nuid": "aefac36a-2a5e-4b9a-9617-a36d95e28a0f",
          "showTitle": false,
          "title": ""
        },
        "id": "JXO-xK_3k5Uk",
        "outputId": "5ae7a9b6-dd05-462b-f9da-67b0bb2bb5f7"
      },
      "source": [
        "from pyspark.sql.functions import mean, col, split, col, regexp_extract, when, lit\n",
        "from pyspark.ml.feature import StringIndexer, IndexToString, VectorAssembler, VectorIndexer\n",
        "from pyspark.ml.feature import QuantileDiscretizer, OneHotEncoder\n",
        "\n",
        "from pyspark.ml.evaluation import MulticlassClassificationEvaluator\n",
        "from pyspark.ml.evaluation import BinaryClassificationEvaluator\n",
        "\n",
        "from pyspark.ml.classification import LogisticRegression, DecisionTreeClassifier, RandomForestClassifier\n",
        "\n",
        "from pyspark.ml.tuning import ParamGridBuilder, CrossValidator"
      ],
      "execution_count": null,
      "outputs": [
        {
          "output_type": "display_data",
          "data": {
            "text/html": [
              "<style scoped>\n",
              "  .ansiout {\n",
              "    display: block;\n",
              "    unicode-bidi: embed;\n",
              "    white-space: pre-wrap;\n",
              "    word-wrap: break-word;\n",
              "    word-break: break-all;\n",
              "    font-family: \"Source Code Pro\", \"Menlo\", monospace;;\n",
              "    font-size: 13px;\n",
              "    color: #555;\n",
              "    margin-left: 4px;\n",
              "    line-height: 19px;\n",
              "  }\n",
              "</style>\n",
              "<div class=\"ansiout\"></div>"
            ]
          },
          "metadata": {
            "tags": [],
            "application/vnd.databricks.v1+output": {
              "addedWidgets": {},
              "arguments": {},
              "data": "<div class=\"ansiout\"></div>",
              "datasetInfos": [],
              "removedWidgets": [],
              "type": "html"
            }
          }
        }
      ]
    },
    {
      "cell_type": "code",
      "metadata": {
        "application/vnd.databricks.v1+cell": {
          "inputWidgets": {},
          "nuid": "0c8cd8e6-3156-4db6-8337-476747603101",
          "showTitle": false,
          "title": ""
        },
        "id": "jHgQtEstk5Ul",
        "outputId": "549a7d8e-3d3e-49fa-b6dc-d2dc3acfaaa9"
      },
      "source": [
        "# Creating the spark session - \n",
        "spark = SparkSession.builder.appName(\"Bank Term Deposit Project\").getOrCreate()"
      ],
      "execution_count": null,
      "outputs": [
        {
          "output_type": "display_data",
          "data": {
            "text/html": [
              "<style scoped>\n",
              "  .ansiout {\n",
              "    display: block;\n",
              "    unicode-bidi: embed;\n",
              "    white-space: pre-wrap;\n",
              "    word-wrap: break-word;\n",
              "    word-break: break-all;\n",
              "    font-family: \"Source Code Pro\", \"Menlo\", monospace;;\n",
              "    font-size: 13px;\n",
              "    color: #555;\n",
              "    margin-left: 4px;\n",
              "    line-height: 19px;\n",
              "  }\n",
              "</style>\n",
              "<div class=\"ansiout\"></div>"
            ]
          },
          "metadata": {
            "tags": [],
            "application/vnd.databricks.v1+output": {
              "addedWidgets": {},
              "arguments": {},
              "data": "<div class=\"ansiout\"></div>",
              "datasetInfos": [],
              "removedWidgets": [],
              "type": "html"
            }
          }
        }
      ]
    },
    {
      "cell_type": "code",
      "metadata": {
        "application/vnd.databricks.v1+cell": {
          "inputWidgets": {},
          "nuid": "a02abd46-f698-4521-b139-53410025bfe9",
          "showTitle": false,
          "title": ""
        },
        "id": "W5Ymgh-lk5Ul",
        "outputId": "f28cd7f3-9de7-4819-b129-902fd871c3e9"
      },
      "source": [
        "# Creating the dataframe which is reading the csv file. \n",
        "\n",
        "# Header = True - If the csv file have a header (column names in the first row) then set header=true. This will use the first row in the csv file as the dataframe's column names. Setting header=false (default option) will result in a dataframe with default column names: _c0, _c1, _c2, etc.\n",
        "\n",
        "# inferSchema = True - Schema: The schema refered to here are the column types. A column can be of type String, Double, Long, etc. Using inferSchema=false (default option) will give a dataframe where all columns are strings (StringType). Depending on what you want to do, strings may not work. For example, if you want to add numbers from different columns, then those columns should be of some numeric type (strings won't work). By setting inferSchema=true, Spark will automatically go through the csv file and infer the schema of each column. This requires an extra pass over the file which will result in reading a file with inferSchema set to true being slower. But in return the dataframe will most likely have a correct schema given its input.\n",
        "# As an alternative to reading a csv with inferSchema you can provide the schema while reading. This have the advantage of being faster than inferring the schema while giving a dataframe with the correct column types. In addition, for csv files without a header row, column names can be given automatically. \n",
        "\n",
        "bank_df = spark.read.format(\"csv\").load(\"dbfs:/FileStore/shared_uploads/nisargmehta2000@gmail.com/bank_new.csv\",header = True, inferSchema = True)"
      ],
      "execution_count": null,
      "outputs": [
        {
          "output_type": "display_data",
          "data": {
            "text/html": [
              "<style scoped>\n",
              "  .ansiout {\n",
              "    display: block;\n",
              "    unicode-bidi: embed;\n",
              "    white-space: pre-wrap;\n",
              "    word-wrap: break-word;\n",
              "    word-break: break-all;\n",
              "    font-family: \"Source Code Pro\", \"Menlo\", monospace;;\n",
              "    font-size: 13px;\n",
              "    color: #555;\n",
              "    margin-left: 4px;\n",
              "    line-height: 19px;\n",
              "  }\n",
              "</style>\n",
              "<div class=\"ansiout\"></div>"
            ]
          },
          "metadata": {
            "tags": [],
            "application/vnd.databricks.v1+output": {
              "addedWidgets": {},
              "arguments": {},
              "data": "<div class=\"ansiout\"></div>",
              "datasetInfos": [],
              "removedWidgets": [],
              "type": "html"
            }
          }
        }
      ]
    },
    {
      "cell_type": "code",
      "metadata": {
        "application/vnd.databricks.v1+cell": {
          "inputWidgets": {},
          "nuid": "a062a034-fd39-45a2-a1e8-bea744283fb0",
          "showTitle": false,
          "title": ""
        },
        "id": "-NNyzx37k5Un",
        "outputId": "22242443-6a13-4ddf-f268-a931ebebff05"
      },
      "source": [
        "bank_df.printSchema() # Printing the schema\n",
        "bank_df.show(10) # to show the top 10 rows"
      ],
      "execution_count": null,
      "outputs": [
        {
          "output_type": "display_data",
          "data": {
            "text/html": [
              "<style scoped>\n",
              "  .ansiout {\n",
              "    display: block;\n",
              "    unicode-bidi: embed;\n",
              "    white-space: pre-wrap;\n",
              "    word-wrap: break-word;\n",
              "    word-break: break-all;\n",
              "    font-family: \"Source Code Pro\", \"Menlo\", monospace;;\n",
              "    font-size: 13px;\n",
              "    color: #555;\n",
              "    margin-left: 4px;\n",
              "    line-height: 19px;\n",
              "  }\n",
              "</style>\n",
              "<div class=\"ansiout\">root\n",
              "-- age: integer (nullable = true)\n",
              "-- job: string (nullable = true)\n",
              "-- marital: string (nullable = true)\n",
              "-- education: string (nullable = true)\n",
              "-- default: string (nullable = true)\n",
              "-- balance: integer (nullable = true)\n",
              "-- housing: string (nullable = true)\n",
              "-- loan: string (nullable = true)\n",
              "-- contact: string (nullable = true)\n",
              "-- day: integer (nullable = true)\n",
              "-- month: string (nullable = true)\n",
              "-- duration: integer (nullable = true)\n",
              "-- campaign: integer (nullable = true)\n",
              "-- pdays: integer (nullable = true)\n",
              "-- previous: integer (nullable = true)\n",
              "-- poutcome: string (nullable = true)\n",
              "-- deposit: string (nullable = true)\n",
              "\n",
              "+---+----------+--------+---------+-------+-------+-------+----+-------+---+-----+--------+--------+-----+--------+--------+-------+\n",
              "age|       job| marital|education|default|balance|housing|loan|contact|day|month|duration|campaign|pdays|previous|poutcome|deposit|\n",
              "+---+----------+--------+---------+-------+-------+-------+----+-------+---+-----+--------+--------+-----+--------+--------+-------+\n",
              " 59|    admin.| married|secondary|     no|   2343|    yes|  no|unknown|  5|  may|    1042|       1|   -1|       0| unknown|    yes|\n",
              " 56|    admin.| married|secondary|     no|     45|     no|  no|unknown|  5|  may|    1467|       1|   -1|       0| unknown|    yes|\n",
              " 41|technician| married|secondary|     no|   1270|    yes|  no|unknown|  5|  may|    1389|       1|   -1|       0| unknown|    yes|\n",
              " 55|  services| married|secondary|     no|   2476|    yes|  no|unknown|  5|  may|     579|       1|   -1|       0| unknown|    yes|\n",
              " 54|    admin.| married| tertiary|     no|    184|     no|  no|unknown|  5|  may|     673|       2|   -1|       0| unknown|    yes|\n",
              " 42|management|  single| tertiary|     no|      0|    yes| yes|unknown|  5|  may|     562|       2|   -1|       0| unknown|    yes|\n",
              " 56|management| married| tertiary|     no|    830|    yes| yes|unknown|  6|  may|    1201|       1|   -1|       0| unknown|    yes|\n",
              " 60|   retired|divorced|secondary|     no|    545|    yes|  no|unknown|  6|  may|    1030|       1|   -1|       0| unknown|    yes|\n",
              " 37|technician| married|secondary|     no|      1|    yes|  no|unknown|  6|  may|     608|       1|   -1|       0| unknown|    yes|\n",
              " 28|  services|  single|secondary|     no|   5090|    yes|  no|unknown|  6|  may|    1297|       3|   -1|       0| unknown|    yes|\n",
              "+---+----------+--------+---------+-------+-------+-------+----+-------+---+-----+--------+--------+-----+--------+--------+-------+\n",
              "only showing top 10 rows\n",
              "\n",
              "</div>"
            ]
          },
          "metadata": {
            "tags": [],
            "application/vnd.databricks.v1+output": {
              "addedWidgets": {},
              "arguments": {},
              "data": "<div class=\"ansiout\">root\n |-- age: integer (nullable = true)\n |-- job: string (nullable = true)\n |-- marital: string (nullable = true)\n |-- education: string (nullable = true)\n |-- default: string (nullable = true)\n |-- balance: integer (nullable = true)\n |-- housing: string (nullable = true)\n |-- loan: string (nullable = true)\n |-- contact: string (nullable = true)\n |-- day: integer (nullable = true)\n |-- month: string (nullable = true)\n |-- duration: integer (nullable = true)\n |-- campaign: integer (nullable = true)\n |-- pdays: integer (nullable = true)\n |-- previous: integer (nullable = true)\n |-- poutcome: string (nullable = true)\n |-- deposit: string (nullable = true)\n\n+---+----------+--------+---------+-------+-------+-------+----+-------+---+-----+--------+--------+-----+--------+--------+-------+\n|age|       job| marital|education|default|balance|housing|loan|contact|day|month|duration|campaign|pdays|previous|poutcome|deposit|\n+---+----------+--------+---------+-------+-------+-------+----+-------+---+-----+--------+--------+-----+--------+--------+-------+\n| 59|    admin.| married|secondary|     no|   2343|    yes|  no|unknown|  5|  may|    1042|       1|   -1|       0| unknown|    yes|\n| 56|    admin.| married|secondary|     no|     45|     no|  no|unknown|  5|  may|    1467|       1|   -1|       0| unknown|    yes|\n| 41|technician| married|secondary|     no|   1270|    yes|  no|unknown|  5|  may|    1389|       1|   -1|       0| unknown|    yes|\n| 55|  services| married|secondary|     no|   2476|    yes|  no|unknown|  5|  may|     579|       1|   -1|       0| unknown|    yes|\n| 54|    admin.| married| tertiary|     no|    184|     no|  no|unknown|  5|  may|     673|       2|   -1|       0| unknown|    yes|\n| 42|management|  single| tertiary|     no|      0|    yes| yes|unknown|  5|  may|     562|       2|   -1|       0| unknown|    yes|\n| 56|management| married| tertiary|     no|    830|    yes| yes|unknown|  6|  may|    1201|       1|   -1|       0| unknown|    yes|\n| 60|   retired|divorced|secondary|     no|    545|    yes|  no|unknown|  6|  may|    1030|       1|   -1|       0| unknown|    yes|\n| 37|technician| married|secondary|     no|      1|    yes|  no|unknown|  6|  may|     608|       1|   -1|       0| unknown|    yes|\n| 28|  services|  single|secondary|     no|   5090|    yes|  no|unknown|  6|  may|    1297|       3|   -1|       0| unknown|    yes|\n+---+----------+--------+---------+-------+-------+-------+----+-------+---+-----+--------+--------+-----+--------+--------+-------+\nonly showing top 10 rows\n\n</div>",
              "datasetInfos": [],
              "removedWidgets": [],
              "type": "html"
            }
          }
        }
      ]
    },
    {
      "cell_type": "code",
      "metadata": {
        "application/vnd.databricks.v1+cell": {
          "inputWidgets": {},
          "nuid": "31e0de25-f19c-4966-b659-000a3bb33f41",
          "showTitle": false,
          "title": ""
        },
        "id": "R0NDoHvMk5Un",
        "outputId": "c852e343-8f86-4747-c7ea-af7666552764"
      },
      "source": [
        "# Number of customers in the database. \n",
        "clients_count = bank_df.count()\n",
        "\n",
        "# Formatters work by putting in one or more replacement fields and placeholders defined by a pair of curly braces { } into a string and calling the str.format(). The value we wish to put into the placeholders and concatenate with the string passed as parameters into the format function. It returns a formatted string with the value passed as parameter in the placeholder position. \n",
        "print(\"Number of cutomers is {}\".format(clients_count))"
      ],
      "execution_count": null,
      "outputs": [
        {
          "output_type": "display_data",
          "data": {
            "text/html": [
              "<style scoped>\n",
              "  .ansiout {\n",
              "    display: block;\n",
              "    unicode-bidi: embed;\n",
              "    white-space: pre-wrap;\n",
              "    word-wrap: break-word;\n",
              "    word-break: break-all;\n",
              "    font-family: \"Source Code Pro\", \"Menlo\", monospace;;\n",
              "    font-size: 13px;\n",
              "    color: #555;\n",
              "    margin-left: 4px;\n",
              "    line-height: 19px;\n",
              "  }\n",
              "</style>\n",
              "<div class=\"ansiout\">Number of cutomers is 11162\n",
              "</div>"
            ]
          },
          "metadata": {
            "tags": [],
            "application/vnd.databricks.v1+output": {
              "addedWidgets": {},
              "arguments": {},
              "data": "<div class=\"ansiout\">Number of cutomers is 11162\n</div>",
              "datasetInfos": [],
              "removedWidgets": [],
              "type": "html"
            }
          }
        }
      ]
    },
    {
      "cell_type": "code",
      "metadata": {
        "application/vnd.databricks.v1+cell": {
          "inputWidgets": {},
          "nuid": "72ef7f8d-cc42-48bc-944a-1ed8d20fd23f",
          "showTitle": false,
          "title": ""
        },
        "id": "snYQRyYdk5Uo",
        "outputId": "98a81bb8-21ce-4b94-e566-f28fb67fbb0d"
      },
      "source": [
        "# Number of customers which are subscribed to the term deposit Vs who have not subscribed to the term deposits \n",
        "group_by_clients = bank_df.groupBy(\"deposit\").count() # Grouping them by deposits nd counting it. \n",
        "group_by_clients.show()\n",
        "display(group_by_clients)"
      ],
      "execution_count": null,
      "outputs": [
        {
          "output_type": "display_data",
          "data": {
            "text/html": [
              "<style scoped>\n",
              "  .ansiout {\n",
              "    display: block;\n",
              "    unicode-bidi: embed;\n",
              "    white-space: pre-wrap;\n",
              "    word-wrap: break-word;\n",
              "    word-break: break-all;\n",
              "    font-family: \"Source Code Pro\", \"Menlo\", monospace;;\n",
              "    font-size: 13px;\n",
              "    color: #555;\n",
              "    margin-left: 4px;\n",
              "    line-height: 19px;\n",
              "  }\n",
              "</style>\n",
              "<div class=\"ansiout\">+-------+-----+\n",
              "deposit|count|\n",
              "+-------+-----+\n",
              "     no| 5873|\n",
              "    yes| 5289|\n",
              "+-------+-----+\n",
              "\n",
              "</div>"
            ]
          },
          "metadata": {
            "tags": [],
            "application/vnd.databricks.v1+output": {
              "addedWidgets": {},
              "arguments": {},
              "data": "<div class=\"ansiout\">+-------+-----+\n|deposit|count|\n+-------+-----+\n|     no| 5873|\n|    yes| 5289|\n+-------+-----+\n\n</div>",
              "datasetInfos": [],
              "removedWidgets": [],
              "type": "html"
            }
          }
        },
        {
          "output_type": "display_data",
          "data": {
            "text/html": [
              "<style scoped>\n",
              "  .table-result-container {\n",
              "    max-height: 300px;\n",
              "    overflow: auto;\n",
              "  }\n",
              "  table, th, td {\n",
              "    border: 1px solid black;\n",
              "    border-collapse: collapse;\n",
              "  }\n",
              "  th, td {\n",
              "    padding: 5px;\n",
              "  }\n",
              "  th {\n",
              "    text-align: left;\n",
              "  }\n",
              "</style><div class='table-result-container'><table class='table-result'><thead style='background-color: white'><tr><th>deposit</th><th>count</th></tr></thead><tbody><tr><td>no</td><td>5873</td></tr><tr><td>yes</td><td>5289</td></tr></tbody></table></div>"
            ]
          },
          "metadata": {
            "tags": [],
            "application/vnd.databricks.v1+output": {
              "addedWidgets": {},
              "aggData": [],
              "aggError": "",
              "aggOverflow": false,
              "aggSchema": [],
              "aggSeriesLimitReached": false,
              "aggType": "",
              "arguments": {},
              "columnCustomDisplayInfos": {},
              "data": [
                [
                  "no",
                  5873
                ],
                [
                  "yes",
                  5289
                ]
              ],
              "datasetInfos": [],
              "dbfsResultPath": null,
              "isJsonSchema": true,
              "overflow": false,
              "plotOptions": {
                "customPlotOptions": {},
                "displayType": "pieChart",
                "pivotAggregation": null,
                "pivotColumns": null,
                "xColumns": null,
                "yColumns": null
              },
              "removedWidgets": [],
              "schema": [
                {
                  "metadata": "{}",
                  "name": "deposit",
                  "type": "\"string\""
                },
                {
                  "metadata": "{}",
                  "name": "count",
                  "type": "\"long\""
                }
              ],
              "type": "table"
            }
          }
        }
      ]
    },
    {
      "cell_type": "code",
      "metadata": {
        "application/vnd.databricks.v1+cell": {
          "inputWidgets": {},
          "nuid": "d5f47d4a-7fa8-4b43-abcc-b7882a47395c",
          "showTitle": false,
          "title": ""
        },
        "id": "raXRWWArk5Uo",
        "outputId": "45428f01-d05c-43ac-d85d-1108464ee8c8"
      },
      "source": [
        "bank_df.describe([t[0] for t in bank_df.dtypes if t[1] == 'int']).show() # It is only showing the table having integer \n",
        "bank_df.describe().show()"
      ],
      "execution_count": null,
      "outputs": [
        {
          "output_type": "display_data",
          "data": {
            "text/html": [
              "<style scoped>\n",
              "  .ansiout {\n",
              "    display: block;\n",
              "    unicode-bidi: embed;\n",
              "    white-space: pre-wrap;\n",
              "    word-wrap: break-word;\n",
              "    word-break: break-all;\n",
              "    font-family: \"Source Code Pro\", \"Menlo\", monospace;;\n",
              "    font-size: 13px;\n",
              "    color: #555;\n",
              "    margin-left: 4px;\n",
              "    line-height: 19px;\n",
              "  }\n",
              "</style>\n",
              "<div class=\"ansiout\">+-------+------------------+-----+\n",
              "summary|      indexedLabel|label|\n",
              "+-------+------------------+-----+\n",
              "  count|             11162|11162|\n",
              "   mean|0.4738398136534671| null|\n",
              " stddev| 0.499337543912152| null|\n",
              "    min|               0.0|   no|\n",
              "    max|               1.0|  yes|\n",
              "+-------+------------------+-----+\n",
              "\n",
              "+-------+------------------+-----+\n",
              "summary|      indexedLabel|label|\n",
              "+-------+------------------+-----+\n",
              "  count|             11162|11162|\n",
              "   mean|0.4738398136534671| null|\n",
              " stddev| 0.499337543912152| null|\n",
              "    min|               0.0|   no|\n",
              "    max|               1.0|  yes|\n",
              "+-------+------------------+-----+\n",
              "\n",
              "</div>"
            ]
          },
          "metadata": {
            "tags": [],
            "application/vnd.databricks.v1+output": {
              "addedWidgets": {},
              "arguments": {},
              "data": "<div class=\"ansiout\">+-------+------------------+-----+\n|summary|      indexedLabel|label|\n+-------+------------------+-----+\n|  count|             11162|11162|\n|   mean|0.4738398136534671| null|\n| stddev| 0.499337543912152| null|\n|    min|               0.0|   no|\n|    max|               1.0|  yes|\n+-------+------------------+-----+\n\n+-------+------------------+-----+\n|summary|      indexedLabel|label|\n+-------+------------------+-----+\n|  count|             11162|11162|\n|   mean|0.4738398136534671| null|\n| stddev| 0.499337543912152| null|\n|    min|               0.0|   no|\n|    max|               1.0|  yes|\n+-------+------------------+-----+\n\n</div>",
              "datasetInfos": [],
              "removedWidgets": [],
              "type": "html"
            }
          }
        }
      ]
    },
    {
      "cell_type": "code",
      "metadata": {
        "application/vnd.databricks.v1+cell": {
          "inputWidgets": {},
          "nuid": "dcb95005-37b4-4cc8-91d2-ec9430a4f7f3",
          "showTitle": false,
          "title": ""
        },
        "id": "-jVZhYl7k5Up",
        "outputId": "a33cfa21-ebe3-4eaa-dae8-9993bfa83753"
      },
      "source": [
        "display(bank_df.groupBy(\"job\").count())\n",
        "display(bank_df.groupBy(\"housing\", \"deposit\",\"age\").count()) # Grouping housing, deposits, age and plotting the curve. "
      ],
      "execution_count": null,
      "outputs": [
        {
          "output_type": "display_data",
          "data": {
            "text/html": [
              "<style scoped>\n",
              "  .table-result-container {\n",
              "    max-height: 300px;\n",
              "    overflow: auto;\n",
              "  }\n",
              "  table, th, td {\n",
              "    border: 1px solid black;\n",
              "    border-collapse: collapse;\n",
              "  }\n",
              "  th, td {\n",
              "    padding: 5px;\n",
              "  }\n",
              "  th {\n",
              "    text-align: left;\n",
              "  }\n",
              "</style><div class='table-result-container'><table class='table-result'><thead style='background-color: white'><tr><th>job</th><th>count</th></tr></thead><tbody><tr><td>management</td><td>2566</td></tr><tr><td>retired</td><td>778</td></tr><tr><td>unknown</td><td>70</td></tr><tr><td>self-employed</td><td>405</td></tr><tr><td>student</td><td>360</td></tr><tr><td>blue-collar</td><td>1944</td></tr><tr><td>entrepreneur</td><td>328</td></tr><tr><td>admin.</td><td>1334</td></tr><tr><td>technician</td><td>1823</td></tr><tr><td>services</td><td>923</td></tr><tr><td>housemaid</td><td>274</td></tr><tr><td>unemployed</td><td>357</td></tr></tbody></table></div>"
            ]
          },
          "metadata": {
            "tags": [],
            "application/vnd.databricks.v1+output": {
              "addedWidgets": {},
              "aggData": [],
              "aggError": "",
              "aggOverflow": false,
              "aggSchema": [],
              "aggSeriesLimitReached": false,
              "aggType": "",
              "arguments": {},
              "columnCustomDisplayInfos": {},
              "data": [
                [
                  "management",
                  2566
                ],
                [
                  "retired",
                  778
                ],
                [
                  "unknown",
                  70
                ],
                [
                  "self-employed",
                  405
                ],
                [
                  "student",
                  360
                ],
                [
                  "blue-collar",
                  1944
                ],
                [
                  "entrepreneur",
                  328
                ],
                [
                  "admin.",
                  1334
                ],
                [
                  "technician",
                  1823
                ],
                [
                  "services",
                  923
                ],
                [
                  "housemaid",
                  274
                ],
                [
                  "unemployed",
                  357
                ]
              ],
              "datasetInfos": [],
              "dbfsResultPath": null,
              "isJsonSchema": true,
              "overflow": false,
              "plotOptions": {
                "customPlotOptions": {},
                "displayType": "pieChart",
                "pivotAggregation": null,
                "pivotColumns": null,
                "xColumns": null,
                "yColumns": null
              },
              "removedWidgets": [],
              "schema": [
                {
                  "metadata": "{}",
                  "name": "job",
                  "type": "\"string\""
                },
                {
                  "metadata": "{}",
                  "name": "count",
                  "type": "\"long\""
                }
              ],
              "type": "table"
            }
          }
        },
        {
          "output_type": "display_data",
          "data": {
            "text/html": [
              "<style scoped>\n",
              "  .table-result-container {\n",
              "    max-height: 300px;\n",
              "    overflow: auto;\n",
              "  }\n",
              "  table, th, td {\n",
              "    border: 1px solid black;\n",
              "    border-collapse: collapse;\n",
              "  }\n",
              "  th, td {\n",
              "    padding: 5px;\n",
              "  }\n",
              "  th {\n",
              "    text-align: left;\n",
              "  }\n",
              "</style><div class='table-result-container'><table class='table-result'><thead style='background-color: white'><tr><th>housing</th><th>deposit</th><th>age</th><th>count</th></tr></thead><tbody><tr><td>yes</td><td>yes</td><td>22</td><td>4</td></tr><tr><td>no</td><td>yes</td><td>26</td><td>94</td></tr><tr><td>no</td><td>yes</td><td>67</td><td>23</td></tr><tr><td>no</td><td>yes</td><td>80</td><td>12</td></tr><tr><td>yes</td><td>yes</td><td>55</td><td>20</td></tr><tr><td>yes</td><td>yes</td><td>30</td><td>90</td></tr><tr><td>yes</td><td>yes</td><td>76</td><td>1</td></tr><tr><td>no</td><td>no</td><td>51</td><td>51</td></tr><tr><td>yes</td><td>yes</td><td>58</td><td>21</td></tr><tr><td>no</td><td>yes</td><td>90</td><td>2</td></tr><tr><td>no</td><td>no</td><td>50</td><td>65</td></tr><tr><td>no</td><td>yes</td><td>66</td><td>22</td></tr><tr><td>no</td><td>yes</td><td>64</td><td>32</td></tr><tr><td>no</td><td>no</td><td>70</td><td>6</td></tr><tr><td>no</td><td>no</td><td>22</td><td>7</td></tr><tr><td>no</td><td>no</td><td>76</td><td>5</td></tr><tr><td>no</td><td>yes</td><td>50</td><td>50</td></tr><tr><td>yes</td><td>yes</td><td>35</td><td>106</td></tr><tr><td>yes</td><td>yes</td><td>65</td><td>2</td></tr><tr><td>yes</td><td>no</td><td>44</td><td>95</td></tr><tr><td>yes</td><td>yes</td><td>23</td><td>12</td></tr><tr><td>no</td><td>yes</td><td>37</td><td>97</td></tr><tr><td>no</td><td>no</td><td>54</td><td>51</td></tr><tr><td>yes</td><td>yes</td><td>64</td><td>3</td></tr><tr><td>no</td><td>no</td><td>37</td><td>75</td></tr><tr><td>no</td><td>no</td><td>28</td><td>40</td></tr><tr><td>yes</td><td>yes</td><td>62</td><td>7</td></tr><tr><td>yes</td><td>yes</td><td>63</td><td>2</td></tr><tr><td>yes</td><td>no</td><td>22</td><td>1</td></tr><tr><td>yes</td><td>yes</td><td>47</td><td>38</td></tr><tr><td>yes</td><td>no</td><td>40</td><td>137</td></tr><tr><td>no</td><td>yes</td><td>28</td><td>97</td></tr><tr><td>no</td><td>no</td><td>45</td><td>72</td></tr><tr><td>no</td><td>no</td><td>36</td><td>91</td></tr><tr><td>yes</td><td>no</td><td>27</td><td>59</td></tr><tr><td>no</td><td>yes</td><td>70</td><td>17</td></tr><tr><td>yes</td><td>no</td><td>20</td><td>1</td></tr><tr><td>no</td><td>yes</td><td>47</td><td>75</td></tr><tr><td>yes</td><td>yes</td><td>66</td><td>2</td></tr><tr><td>yes</td><td>no</td><td>36</td><td>146</td></tr><tr><td>no</td><td>yes</td><td>65</td><td>19</td></tr><tr><td>yes</td><td>yes</td><td>71</td><td>2</td></tr><tr><td>no</td><td>no</td><td>53</td><td>60</td></tr><tr><td>no</td><td>yes</td><td>57</td><td>62</td></tr><tr><td>no</td><td>yes</td><td>29</td><td>107</td></tr><tr><td>yes</td><td>yes</td><td>43</td><td>39</td></tr><tr><td>no</td><td>yes</td><td>60</td><td>74</td></tr><tr><td>yes</td><td>no</td><td>49</td><td>67</td></tr><tr><td>yes</td><td>yes</td><td>46</td><td>45</td></tr><tr><td>no</td><td>yes</td><td>44</td><td>52</td></tr><tr><td>no</td><td>yes</td><td>93</td><td>2</td></tr><tr><td>yes</td><td>no</td><td>21</td><td>1</td></tr><tr><td>no</td><td>yes</td><td>38</td><td>73</td></tr><tr><td>no</td><td>no</td><td>20</td><td>4</td></tr><tr><td>no</td><td>yes</td><td>77</td><td>20</td></tr><tr><td>yes</td><td>yes</td><td>28</td><td>65</td></tr><tr><td>no</td><td>yes</td><td>84</td><td>5</td></tr><tr><td>no</td><td>no</td><td>67</td><td>6</td></tr><tr><td>yes</td><td>yes</td><td>34</td><td>98</td></tr><tr><td>no</td><td>yes</td><td>81</td><td>6</td></tr><tr><td>no</td><td>no</td><td>41</td><td>62</td></tr><tr><td>yes</td><td>no</td><td>55</td><td>55</td></tr><tr><td>yes</td><td>yes</td><td>51</td><td>25</td></tr><tr><td>no</td><td>yes</td><td>95</td><td>1</td></tr><tr><td>yes</td><td>no</td><td>31</td><td>175</td></tr><tr><td>yes</td><td>no</td><td>42</td><td>112</td></tr><tr><td>yes</td><td>no</td><td>46</td><td>85</td></tr><tr><td>no</td><td>no</td><td>42</td><td>72</td></tr><tr><td>no</td><td>no</td><td>74</td><td>5</td></tr><tr><td>no</td><td>yes</td><td>27</td><td>90</td></tr><tr><td>no</td><td>no</td><td>18</td><td>1</td></tr><tr><td>no</td><td>yes</td><td>72</td><td>24</td></tr><tr><td>no</td><td>yes</td><td>71</td><td>23</td></tr><tr><td>no</td><td>yes</td><td>92</td><td>2</td></tr><tr><td>yes</td><td>no</td><td>33</td><td>151</td></tr><tr><td>no</td><td>yes</td><td>20</td><td>13</td></tr><tr><td>no</td><td>no</td><td>39</td><td>73</td></tr><tr><td>no</td><td>no</td><td>23</td><td>8</td></tr><tr><td>yes</td><td>yes</td><td>42</td><td>63</td></tr><tr><td>no</td><td>yes</td><td>62</td><td>32</td></tr><tr><td>no</td><td>yes</td><td>78</td><td>13</td></tr><tr><td>yes</td><td>no</td><td>25</td><td>33</td></tr><tr><td>no</td><td>no</td><td>77</td><td>9</td></tr><tr><td>yes</td><td>yes</td><td>69</td><td>1</td></tr><tr><td>no</td><td>no</td><td>59</td><td>57</td></tr><tr><td>yes</td><td>no</td><td>58</td><td>41</td></tr><tr><td>no</td><td>no</td><td>52</td><td>73</td></tr><tr><td>no</td><td>yes</td><td>58</td><td>51</td></tr><tr><td>no</td><td>no</td><td>87</td><td>1</td></tr><tr><td>yes</td><td>no</td><td>61</td><td>3</td></tr><tr><td>no</td><td>yes</td><td>85</td><td>4</td></tr><tr><td>yes</td><td>yes</td><td>24</td><td>21</td></tr><tr><td>no</td><td>no</td><td>31</td><td>115</td></tr><tr><td>yes</td><td>no</td><td>24</td><td>23</td></tr><tr><td>no</td><td>yes</td><td>24</td><td>47</td></tr><tr><td>no</td><td>no</td><td>44</td><td>50</td></tr><tr><td>no</td><td>no</td><td>82</td><td>2</td></tr><tr><td>yes</td><td>yes</td><td>33</td><td>96</td></tr><tr><td>yes</td><td>yes</td><td>41</td><td>61</td></tr><tr><td>yes</td><td>no</td><td>51</td><td>66</td></tr><tr><td>yes</td><td>no</td><td>23</td><td>16</td></tr><tr><td>no</td><td>no</td><td>35</td><td>80</td></tr><tr><td>no</td><td>no</td><td>40</td><td>73</td></tr><tr><td>no</td><td>yes</td><td>19</td><td>11</td></tr><tr><td>no</td><td>yes</td><td>18</td><td>7</td></tr><tr><td>no</td><td>no</td><td>24</td><td>4</td></tr><tr><td>no</td><td>no</td><td>81</td><td>3</td></tr><tr><td>no</td><td>yes</td><td>49</td><td>54</td></tr><tr><td>no</td><td>no</td><td>47</td><td>73</td></tr><tr><td>no</td><td>no</td><td>65</td><td>6</td></tr><tr><td>no</td><td>yes</td><td>32</td><td>109</td></tr><tr><td>no</td><td>yes</td><td>73</td><td>22</td></tr><tr><td>yes</td><td>no</td><td>43</td><td>88</td></tr><tr><td>yes</td><td>yes</td><td>56</td><td>17</td></tr><tr><td>yes</td><td>yes</td><td>40</td><td>61</td></tr><tr><td>yes</td><td>yes</td><td>31</td><td>86</td></tr><tr><td>yes</td><td>yes</td><td>45</td><td>46</td></tr><tr><td>yes</td><td>no</td><td>45</td><td>75</td></tr><tr><td>yes</td><td>no</td><td>32</td><td>164</td></tr><tr><td>no</td><td>no</td><td>80</td><td>5</td></tr><tr><td>yes</td><td>yes</td><td>48</td><td>32</td></tr><tr><td>no</td><td>yes</td><td>41</td><td>59</td></tr><tr><td>no</td><td>yes</td><td>55</td><td>56</td></tr><tr><td>no</td><td>no</td><td>58</td><td>46</td></tr><tr><td>no</td><td>no</td><td>69</td><td>3</td></tr><tr><td>no</td><td>yes</td><td>86</td><td>4</td></tr><tr><td>yes</td><td>no</td><td>50</td><td>57</td></tr><tr><td>no</td><td>no</td><td>55</td><td>66</td></tr><tr><td>no</td><td>no</td><td>78</td><td>5</td></tr><tr><td>no</td><td>yes</td><td>51</td><td>52</td></tr><tr><td>no</td><td>no</td><td>56</td><td>62</td></tr><tr><td>yes</td><td>no</td><td>34</td><td>176</td></tr><tr><td>yes</td><td>yes</td><td>50</td><td>22</td></tr><tr><td>no</td><td>no</td><td>33</td><td>103</td></tr><tr><td>yes</td><td>no</td><td>54</td><td>52</td></tr><tr><td>no</td><td>no</td><td>25</td><td>22</td></tr><tr><td>yes</td><td>no</td><td>37</td><td>125</td></tr><tr><td>no</td><td>no</td><td>48</td><td>74</td></tr><tr><td>no</td><td>yes</td><td>46</td><td>73</td></tr><tr><td>no</td><td>yes</td><td>33</td><td>114</td></tr><tr><td>yes</td><td>yes</td><td>68</td><td>2</td></tr><tr><td>yes</td><td>no</td><td>60</td><td>25</td></tr><tr><td>no</td><td>no</td><td>60</td><td>46</td></tr><tr><td>yes</td><td>no</td><td>41</td><td>117</td></tr><tr><td>no</td><td>no</td><td>88</td><td>2</td></tr><tr><td>yes</td><td>no</td><td>56</td><td>47</td></tr><tr><td>no</td><td>no</td><td>64</td><td>2</td></tr><tr><td>yes</td><td>yes</td><td>57</td><td>16</td></tr><tr><td>no</td><td>yes</td><td>25</td><td>83</td></tr><tr><td>yes</td><td>no</td><td>48</td><td>58</td></tr><tr><td>yes</td><td>no</td><td>29</td><td>107</td></tr><tr><td>no</td><td>no</td><td>75</td><td>3</td></tr><tr><td>no</td><td>yes</td><td>39</td><td>66</td></tr><tr><td>no</td><td>yes</td><td>74</td><td>13</td></tr><tr><td>yes</td><td>no</td><td>35</td><td>172</td></tr><tr><td>no</td><td>no</td><td>46</td><td>55</td></tr><tr><td>no</td><td>no</td><td>72</td><td>4</td></tr><tr><td>no</td><td>no</td><td>32</td><td>92</td></tr><tr><td>yes</td><td>no</td><td>57</td><td>50</td></tr><tr><td>yes</td><td>no</td><td>63</td><td>1</td></tr><tr><td>no</td><td>no</td><td>71</td><td>2</td></tr><tr><td>no</td><td>yes</td><td>42</td><td>48</td></tr><tr><td>no</td><td>no</td><td>66</td><td>4</td></tr><tr><td>no</td><td>no</td><td>21</td><td>7</td></tr><tr><td>no</td><td>yes</td><td>82</td><td>8</td></tr><tr><td>no</td><td>yes</td><td>63</td><td>28</td></tr><tr><td>yes</td><td>no</td><td>52</td><td>47</td></tr><tr><td>yes</td><td>yes</td><td>32</td><td>112</td></tr><tr><td>no</td><td>yes</td><td>76</td><td>15</td></tr><tr><td>no</td><td>yes</td><td>48</td><td>50</td></tr><tr><td>no</td><td>no</td><td>43</td><td>58</td></tr><tr><td>no</td><td>no</td><td>73</td><td>5</td></tr><tr><td>no</td><td>no</td><td>26</td><td>44</td></tr><tr><td>yes</td><td>no</td><td>68</td><td>1</td></tr><tr><td>yes</td><td>no</td><td>28</td><td>90</td></tr><tr><td>no</td><td>yes</td><td>43</td><td>64</td></tr><tr><td>no</td><td>no</td><td>85</td><td>1</td></tr><tr><td>yes</td><td>yes</td><td>59</td><td>23</td></tr><tr><td>no</td><td>no</td><td>62</td><td>4</td></tr><tr><td>no</td><td>no</td><td>61</td><td>6</td></tr><tr><td>no</td><td>yes</td><td>87</td><td>3</td></tr><tr><td>no</td><td>yes</td><td>69</td><td>16</td></tr><tr><td>no</td><td>yes</td><td>34</td><td>100</td></tr><tr><td>no</td><td>yes</td><td>54</td><td>66</td></tr><tr><td>no</td><td>yes</td><td>30</td><td>127</td></tr><tr><td>no</td><td>no</td><td>89</td><td>1</td></tr><tr><td>yes</td><td>yes</td><td>52</td><td>28</td></tr><tr><td>yes</td><td>yes</td><td>54</td><td>18</td></tr><tr><td>yes</td><td>yes</td><td>21</td><td>1</td></tr><tr><td>no</td><td>no</td><td>83</td><td>1</td></tr><tr><td>yes</td><td>yes</td><td>25</td><td>30</td></tr><tr><td>yes</td><td>yes</td><td>73</td><td>2</td></tr><tr><td>no</td><td>no</td><td>30</td><td>101</td></tr><tr><td>yes</td><td>yes</td><td>20</td><td>2</td></tr><tr><td>no</td><td>yes</td><td>52</td><td>57</td></tr><tr><td>no</td><td>no</td><td>68</td><td>2</td></tr><tr><td>yes</td><td>no</td><td>66</td><td>1</td></tr><tr><td>yes</td><td>yes</td><td>60</td><td>24</td></tr><tr><td>no</td><td>yes</td><td>40</td><td>55</td></tr><tr><td>no</td><td>yes</td><td>56</td><td>51</td></tr><tr><td>no</td><td>yes</td><td>35</td><td>103</td></tr><tr><td>yes</td><td>yes</td><td>78</td><td>1</td></tr><tr><td>yes</td><td>no</td><td>39</td><td>127</td></tr><tr><td>yes</td><td>yes</td><td>44</td><td>41</td></tr><tr><td>yes</td><td>no</td><td>59</td><td>39</td></tr><tr><td>no</td><td>no</td><td>57</td><td>56</td></tr><tr><td>no</td><td>yes</td><td>45</td><td>60</td></tr><tr><td>no</td><td>yes</td><td>59</td><td>65</td></tr><tr><td>yes</td><td>no</td><td>26</td><td>57</td></tr><tr><td>no</td><td>yes</td><td>68</td><td>19</td></tr><tr><td>yes</td><td>no</td><td>62</td><td>2</td></tr><tr><td>no</td><td>no</td><td>34</td><td>92</td></tr><tr><td>no</td><td>yes</td><td>21</td><td>21</td></tr><tr><td>no</td><td>no</td><td>38</td><td>74</td></tr><tr><td>no</td><td>yes</td><td>83</td><td>6</td></tr><tr><td>yes</td><td>yes</td><td>77</td><td>2</td></tr><tr><td>yes</td><td>no</td><td>47</td><td>69</td></tr><tr><td>yes</td><td>yes</td><td>38</td><td>71</td></tr><tr><td>no</td><td>no</td><td>27</td><td>46</td></tr><tr><td>no</td><td>yes</td><td>23</td><td>32</td></tr><tr><td>no</td><td>yes</td><td>75</td><td>13</td></tr><tr><td>yes</td><td>yes</td><td>49</td><td>47</td></tr><tr><td>yes</td><td>yes</td><td>27</td><td>51</td></tr><tr><td>yes</td><td>yes</td><td>75</td><td>2</td></tr><tr><td>yes</td><td>yes</td><td>29</td><td>64</td></tr><tr><td>no</td><td>yes</td><td>31</td><td>120</td></tr><tr><td>no</td><td>yes</td><td>53</td><td>59</td></tr><tr><td>no</td><td>no</td><td>63</td><td>7</td></tr><tr><td>yes</td><td>yes</td><td>36</td><td>83</td></tr><tr><td>no</td><td>yes</td><td>61</td><td>46</td></tr><tr><td>no</td><td>yes</td><td>22</td><td>36</td></tr><tr><td>yes</td><td>no</td><td>53</td><td>59</td></tr><tr><td>no</td><td>no</td><td>19</td><td>2</td></tr><tr><td>yes</td><td>yes</td><td>39</td><td>77</td></tr><tr><td>yes</td><td>yes</td><td>61</td><td>11</td></tr><tr><td>no</td><td>yes</td><td>36</td><td>112</td></tr><tr><td>no</td><td>yes</td><td>79</td><td>10</td></tr><tr><td>no</td><td>no</td><td>49</td><td>73</td></tr><tr><td>yes</td><td>yes</td><td>26</td><td>40</td></tr><tr><td>yes</td><td>no</td><td>38</td><td>135</td></tr><tr><td>yes</td><td>no</td><td>30</td><td>138</td></tr><tr><td>yes</td><td>yes</td><td>37</td><td>73</td></tr><tr><td>no</td><td>no</td><td>29</td><td>50</td></tr><tr><td>no</td><td>no</td><td>86</td><td>1</td></tr><tr><td>yes</td><td>yes</td><td>53</td><td>26</td></tr></tbody></table></div>"
            ]
          },
          "metadata": {
            "tags": [],
            "application/vnd.databricks.v1+output": {
              "addedWidgets": {},
              "aggData": [],
              "aggError": "",
              "aggOverflow": false,
              "aggSchema": [],
              "aggSeriesLimitReached": false,
              "aggType": "",
              "arguments": {},
              "columnCustomDisplayInfos": {},
              "data": [
                [
                  "yes",
                  "yes",
                  22,
                  4
                ],
                [
                  "no",
                  "yes",
                  26,
                  94
                ],
                [
                  "no",
                  "yes",
                  67,
                  23
                ],
                [
                  "no",
                  "yes",
                  80,
                  12
                ],
                [
                  "yes",
                  "yes",
                  55,
                  20
                ],
                [
                  "yes",
                  "yes",
                  30,
                  90
                ],
                [
                  "yes",
                  "yes",
                  76,
                  1
                ],
                [
                  "no",
                  "no",
                  51,
                  51
                ],
                [
                  "yes",
                  "yes",
                  58,
                  21
                ],
                [
                  "no",
                  "yes",
                  90,
                  2
                ],
                [
                  "no",
                  "no",
                  50,
                  65
                ],
                [
                  "no",
                  "yes",
                  66,
                  22
                ],
                [
                  "no",
                  "yes",
                  64,
                  32
                ],
                [
                  "no",
                  "no",
                  70,
                  6
                ],
                [
                  "no",
                  "no",
                  22,
                  7
                ],
                [
                  "no",
                  "no",
                  76,
                  5
                ],
                [
                  "no",
                  "yes",
                  50,
                  50
                ],
                [
                  "yes",
                  "yes",
                  35,
                  106
                ],
                [
                  "yes",
                  "yes",
                  65,
                  2
                ],
                [
                  "yes",
                  "no",
                  44,
                  95
                ],
                [
                  "yes",
                  "yes",
                  23,
                  12
                ],
                [
                  "no",
                  "yes",
                  37,
                  97
                ],
                [
                  "no",
                  "no",
                  54,
                  51
                ],
                [
                  "yes",
                  "yes",
                  64,
                  3
                ],
                [
                  "no",
                  "no",
                  37,
                  75
                ],
                [
                  "no",
                  "no",
                  28,
                  40
                ],
                [
                  "yes",
                  "yes",
                  62,
                  7
                ],
                [
                  "yes",
                  "yes",
                  63,
                  2
                ],
                [
                  "yes",
                  "no",
                  22,
                  1
                ],
                [
                  "yes",
                  "yes",
                  47,
                  38
                ],
                [
                  "yes",
                  "no",
                  40,
                  137
                ],
                [
                  "no",
                  "yes",
                  28,
                  97
                ],
                [
                  "no",
                  "no",
                  45,
                  72
                ],
                [
                  "no",
                  "no",
                  36,
                  91
                ],
                [
                  "yes",
                  "no",
                  27,
                  59
                ],
                [
                  "no",
                  "yes",
                  70,
                  17
                ],
                [
                  "yes",
                  "no",
                  20,
                  1
                ],
                [
                  "no",
                  "yes",
                  47,
                  75
                ],
                [
                  "yes",
                  "yes",
                  66,
                  2
                ],
                [
                  "yes",
                  "no",
                  36,
                  146
                ],
                [
                  "no",
                  "yes",
                  65,
                  19
                ],
                [
                  "yes",
                  "yes",
                  71,
                  2
                ],
                [
                  "no",
                  "no",
                  53,
                  60
                ],
                [
                  "no",
                  "yes",
                  57,
                  62
                ],
                [
                  "no",
                  "yes",
                  29,
                  107
                ],
                [
                  "yes",
                  "yes",
                  43,
                  39
                ],
                [
                  "no",
                  "yes",
                  60,
                  74
                ],
                [
                  "yes",
                  "no",
                  49,
                  67
                ],
                [
                  "yes",
                  "yes",
                  46,
                  45
                ],
                [
                  "no",
                  "yes",
                  44,
                  52
                ],
                [
                  "no",
                  "yes",
                  93,
                  2
                ],
                [
                  "yes",
                  "no",
                  21,
                  1
                ],
                [
                  "no",
                  "yes",
                  38,
                  73
                ],
                [
                  "no",
                  "no",
                  20,
                  4
                ],
                [
                  "no",
                  "yes",
                  77,
                  20
                ],
                [
                  "yes",
                  "yes",
                  28,
                  65
                ],
                [
                  "no",
                  "yes",
                  84,
                  5
                ],
                [
                  "no",
                  "no",
                  67,
                  6
                ],
                [
                  "yes",
                  "yes",
                  34,
                  98
                ],
                [
                  "no",
                  "yes",
                  81,
                  6
                ],
                [
                  "no",
                  "no",
                  41,
                  62
                ],
                [
                  "yes",
                  "no",
                  55,
                  55
                ],
                [
                  "yes",
                  "yes",
                  51,
                  25
                ],
                [
                  "no",
                  "yes",
                  95,
                  1
                ],
                [
                  "yes",
                  "no",
                  31,
                  175
                ],
                [
                  "yes",
                  "no",
                  42,
                  112
                ],
                [
                  "yes",
                  "no",
                  46,
                  85
                ],
                [
                  "no",
                  "no",
                  42,
                  72
                ],
                [
                  "no",
                  "no",
                  74,
                  5
                ],
                [
                  "no",
                  "yes",
                  27,
                  90
                ],
                [
                  "no",
                  "no",
                  18,
                  1
                ],
                [
                  "no",
                  "yes",
                  72,
                  24
                ],
                [
                  "no",
                  "yes",
                  71,
                  23
                ],
                [
                  "no",
                  "yes",
                  92,
                  2
                ],
                [
                  "yes",
                  "no",
                  33,
                  151
                ],
                [
                  "no",
                  "yes",
                  20,
                  13
                ],
                [
                  "no",
                  "no",
                  39,
                  73
                ],
                [
                  "no",
                  "no",
                  23,
                  8
                ],
                [
                  "yes",
                  "yes",
                  42,
                  63
                ],
                [
                  "no",
                  "yes",
                  62,
                  32
                ],
                [
                  "no",
                  "yes",
                  78,
                  13
                ],
                [
                  "yes",
                  "no",
                  25,
                  33
                ],
                [
                  "no",
                  "no",
                  77,
                  9
                ],
                [
                  "yes",
                  "yes",
                  69,
                  1
                ],
                [
                  "no",
                  "no",
                  59,
                  57
                ],
                [
                  "yes",
                  "no",
                  58,
                  41
                ],
                [
                  "no",
                  "no",
                  52,
                  73
                ],
                [
                  "no",
                  "yes",
                  58,
                  51
                ],
                [
                  "no",
                  "no",
                  87,
                  1
                ],
                [
                  "yes",
                  "no",
                  61,
                  3
                ],
                [
                  "no",
                  "yes",
                  85,
                  4
                ],
                [
                  "yes",
                  "yes",
                  24,
                  21
                ],
                [
                  "no",
                  "no",
                  31,
                  115
                ],
                [
                  "yes",
                  "no",
                  24,
                  23
                ],
                [
                  "no",
                  "yes",
                  24,
                  47
                ],
                [
                  "no",
                  "no",
                  44,
                  50
                ],
                [
                  "no",
                  "no",
                  82,
                  2
                ],
                [
                  "yes",
                  "yes",
                  33,
                  96
                ],
                [
                  "yes",
                  "yes",
                  41,
                  61
                ],
                [
                  "yes",
                  "no",
                  51,
                  66
                ],
                [
                  "yes",
                  "no",
                  23,
                  16
                ],
                [
                  "no",
                  "no",
                  35,
                  80
                ],
                [
                  "no",
                  "no",
                  40,
                  73
                ],
                [
                  "no",
                  "yes",
                  19,
                  11
                ],
                [
                  "no",
                  "yes",
                  18,
                  7
                ],
                [
                  "no",
                  "no",
                  24,
                  4
                ],
                [
                  "no",
                  "no",
                  81,
                  3
                ],
                [
                  "no",
                  "yes",
                  49,
                  54
                ],
                [
                  "no",
                  "no",
                  47,
                  73
                ],
                [
                  "no",
                  "no",
                  65,
                  6
                ],
                [
                  "no",
                  "yes",
                  32,
                  109
                ],
                [
                  "no",
                  "yes",
                  73,
                  22
                ],
                [
                  "yes",
                  "no",
                  43,
                  88
                ],
                [
                  "yes",
                  "yes",
                  56,
                  17
                ],
                [
                  "yes",
                  "yes",
                  40,
                  61
                ],
                [
                  "yes",
                  "yes",
                  31,
                  86
                ],
                [
                  "yes",
                  "yes",
                  45,
                  46
                ],
                [
                  "yes",
                  "no",
                  45,
                  75
                ],
                [
                  "yes",
                  "no",
                  32,
                  164
                ],
                [
                  "no",
                  "no",
                  80,
                  5
                ],
                [
                  "yes",
                  "yes",
                  48,
                  32
                ],
                [
                  "no",
                  "yes",
                  41,
                  59
                ],
                [
                  "no",
                  "yes",
                  55,
                  56
                ],
                [
                  "no",
                  "no",
                  58,
                  46
                ],
                [
                  "no",
                  "no",
                  69,
                  3
                ],
                [
                  "no",
                  "yes",
                  86,
                  4
                ],
                [
                  "yes",
                  "no",
                  50,
                  57
                ],
                [
                  "no",
                  "no",
                  55,
                  66
                ],
                [
                  "no",
                  "no",
                  78,
                  5
                ],
                [
                  "no",
                  "yes",
                  51,
                  52
                ],
                [
                  "no",
                  "no",
                  56,
                  62
                ],
                [
                  "yes",
                  "no",
                  34,
                  176
                ],
                [
                  "yes",
                  "yes",
                  50,
                  22
                ],
                [
                  "no",
                  "no",
                  33,
                  103
                ],
                [
                  "yes",
                  "no",
                  54,
                  52
                ],
                [
                  "no",
                  "no",
                  25,
                  22
                ],
                [
                  "yes",
                  "no",
                  37,
                  125
                ],
                [
                  "no",
                  "no",
                  48,
                  74
                ],
                [
                  "no",
                  "yes",
                  46,
                  73
                ],
                [
                  "no",
                  "yes",
                  33,
                  114
                ],
                [
                  "yes",
                  "yes",
                  68,
                  2
                ],
                [
                  "yes",
                  "no",
                  60,
                  25
                ],
                [
                  "no",
                  "no",
                  60,
                  46
                ],
                [
                  "yes",
                  "no",
                  41,
                  117
                ],
                [
                  "no",
                  "no",
                  88,
                  2
                ],
                [
                  "yes",
                  "no",
                  56,
                  47
                ],
                [
                  "no",
                  "no",
                  64,
                  2
                ],
                [
                  "yes",
                  "yes",
                  57,
                  16
                ],
                [
                  "no",
                  "yes",
                  25,
                  83
                ],
                [
                  "yes",
                  "no",
                  48,
                  58
                ],
                [
                  "yes",
                  "no",
                  29,
                  107
                ],
                [
                  "no",
                  "no",
                  75,
                  3
                ],
                [
                  "no",
                  "yes",
                  39,
                  66
                ],
                [
                  "no",
                  "yes",
                  74,
                  13
                ],
                [
                  "yes",
                  "no",
                  35,
                  172
                ],
                [
                  "no",
                  "no",
                  46,
                  55
                ],
                [
                  "no",
                  "no",
                  72,
                  4
                ],
                [
                  "no",
                  "no",
                  32,
                  92
                ],
                [
                  "yes",
                  "no",
                  57,
                  50
                ],
                [
                  "yes",
                  "no",
                  63,
                  1
                ],
                [
                  "no",
                  "no",
                  71,
                  2
                ],
                [
                  "no",
                  "yes",
                  42,
                  48
                ],
                [
                  "no",
                  "no",
                  66,
                  4
                ],
                [
                  "no",
                  "no",
                  21,
                  7
                ],
                [
                  "no",
                  "yes",
                  82,
                  8
                ],
                [
                  "no",
                  "yes",
                  63,
                  28
                ],
                [
                  "yes",
                  "no",
                  52,
                  47
                ],
                [
                  "yes",
                  "yes",
                  32,
                  112
                ],
                [
                  "no",
                  "yes",
                  76,
                  15
                ],
                [
                  "no",
                  "yes",
                  48,
                  50
                ],
                [
                  "no",
                  "no",
                  43,
                  58
                ],
                [
                  "no",
                  "no",
                  73,
                  5
                ],
                [
                  "no",
                  "no",
                  26,
                  44
                ],
                [
                  "yes",
                  "no",
                  68,
                  1
                ],
                [
                  "yes",
                  "no",
                  28,
                  90
                ],
                [
                  "no",
                  "yes",
                  43,
                  64
                ],
                [
                  "no",
                  "no",
                  85,
                  1
                ],
                [
                  "yes",
                  "yes",
                  59,
                  23
                ],
                [
                  "no",
                  "no",
                  62,
                  4
                ],
                [
                  "no",
                  "no",
                  61,
                  6
                ],
                [
                  "no",
                  "yes",
                  87,
                  3
                ],
                [
                  "no",
                  "yes",
                  69,
                  16
                ],
                [
                  "no",
                  "yes",
                  34,
                  100
                ],
                [
                  "no",
                  "yes",
                  54,
                  66
                ],
                [
                  "no",
                  "yes",
                  30,
                  127
                ],
                [
                  "no",
                  "no",
                  89,
                  1
                ],
                [
                  "yes",
                  "yes",
                  52,
                  28
                ],
                [
                  "yes",
                  "yes",
                  54,
                  18
                ],
                [
                  "yes",
                  "yes",
                  21,
                  1
                ],
                [
                  "no",
                  "no",
                  83,
                  1
                ],
                [
                  "yes",
                  "yes",
                  25,
                  30
                ],
                [
                  "yes",
                  "yes",
                  73,
                  2
                ],
                [
                  "no",
                  "no",
                  30,
                  101
                ],
                [
                  "yes",
                  "yes",
                  20,
                  2
                ],
                [
                  "no",
                  "yes",
                  52,
                  57
                ],
                [
                  "no",
                  "no",
                  68,
                  2
                ],
                [
                  "yes",
                  "no",
                  66,
                  1
                ],
                [
                  "yes",
                  "yes",
                  60,
                  24
                ],
                [
                  "no",
                  "yes",
                  40,
                  55
                ],
                [
                  "no",
                  "yes",
                  56,
                  51
                ],
                [
                  "no",
                  "yes",
                  35,
                  103
                ],
                [
                  "yes",
                  "yes",
                  78,
                  1
                ],
                [
                  "yes",
                  "no",
                  39,
                  127
                ],
                [
                  "yes",
                  "yes",
                  44,
                  41
                ],
                [
                  "yes",
                  "no",
                  59,
                  39
                ],
                [
                  "no",
                  "no",
                  57,
                  56
                ],
                [
                  "no",
                  "yes",
                  45,
                  60
                ],
                [
                  "no",
                  "yes",
                  59,
                  65
                ],
                [
                  "yes",
                  "no",
                  26,
                  57
                ],
                [
                  "no",
                  "yes",
                  68,
                  19
                ],
                [
                  "yes",
                  "no",
                  62,
                  2
                ],
                [
                  "no",
                  "no",
                  34,
                  92
                ],
                [
                  "no",
                  "yes",
                  21,
                  21
                ],
                [
                  "no",
                  "no",
                  38,
                  74
                ],
                [
                  "no",
                  "yes",
                  83,
                  6
                ],
                [
                  "yes",
                  "yes",
                  77,
                  2
                ],
                [
                  "yes",
                  "no",
                  47,
                  69
                ],
                [
                  "yes",
                  "yes",
                  38,
                  71
                ],
                [
                  "no",
                  "no",
                  27,
                  46
                ],
                [
                  "no",
                  "yes",
                  23,
                  32
                ],
                [
                  "no",
                  "yes",
                  75,
                  13
                ],
                [
                  "yes",
                  "yes",
                  49,
                  47
                ],
                [
                  "yes",
                  "yes",
                  27,
                  51
                ],
                [
                  "yes",
                  "yes",
                  75,
                  2
                ],
                [
                  "yes",
                  "yes",
                  29,
                  64
                ],
                [
                  "no",
                  "yes",
                  31,
                  120
                ],
                [
                  "no",
                  "yes",
                  53,
                  59
                ],
                [
                  "no",
                  "no",
                  63,
                  7
                ],
                [
                  "yes",
                  "yes",
                  36,
                  83
                ],
                [
                  "no",
                  "yes",
                  61,
                  46
                ],
                [
                  "no",
                  "yes",
                  22,
                  36
                ],
                [
                  "yes",
                  "no",
                  53,
                  59
                ],
                [
                  "no",
                  "no",
                  19,
                  2
                ],
                [
                  "yes",
                  "yes",
                  39,
                  77
                ],
                [
                  "yes",
                  "yes",
                  61,
                  11
                ],
                [
                  "no",
                  "yes",
                  36,
                  112
                ],
                [
                  "no",
                  "yes",
                  79,
                  10
                ],
                [
                  "no",
                  "no",
                  49,
                  73
                ],
                [
                  "yes",
                  "yes",
                  26,
                  40
                ],
                [
                  "yes",
                  "no",
                  38,
                  135
                ],
                [
                  "yes",
                  "no",
                  30,
                  138
                ],
                [
                  "yes",
                  "yes",
                  37,
                  73
                ],
                [
                  "no",
                  "no",
                  29,
                  50
                ],
                [
                  "no",
                  "no",
                  86,
                  1
                ],
                [
                  "yes",
                  "yes",
                  53,
                  26
                ]
              ],
              "datasetInfos": [],
              "dbfsResultPath": null,
              "isJsonSchema": true,
              "overflow": false,
              "plotOptions": {
                "customPlotOptions": {},
                "displayType": "pieChart",
                "pivotAggregation": null,
                "pivotColumns": null,
                "xColumns": null,
                "yColumns": null
              },
              "removedWidgets": [],
              "schema": [
                {
                  "metadata": "{}",
                  "name": "housing",
                  "type": "\"string\""
                },
                {
                  "metadata": "{}",
                  "name": "deposit",
                  "type": "\"string\""
                },
                {
                  "metadata": "{}",
                  "name": "age",
                  "type": "\"integer\""
                },
                {
                  "metadata": "{}",
                  "name": "count",
                  "type": "\"long\""
                }
              ],
              "type": "table"
            }
          }
        }
      ]
    },
    {
      "cell_type": "code",
      "metadata": {
        "application/vnd.databricks.v1+cell": {
          "inputWidgets": {},
          "nuid": "627c1923-401b-4031-84c1-da6b977319cf",
          "showTitle": false,
          "title": ""
        },
        "id": "vAMBTZfKk5Up",
        "outputId": "f8b7bbdd-6082-42e8-b466-4ce0d70d5b77"
      },
      "source": [
        "display(bank_df.groupBy(\"housing\", \"deposit\").count())"
      ],
      "execution_count": null,
      "outputs": [
        {
          "output_type": "display_data",
          "data": {
            "text/html": [
              "<style scoped>\n",
              "  .table-result-container {\n",
              "    max-height: 300px;\n",
              "    overflow: auto;\n",
              "  }\n",
              "  table, th, td {\n",
              "    border: 1px solid black;\n",
              "    border-collapse: collapse;\n",
              "  }\n",
              "  th, td {\n",
              "    padding: 5px;\n",
              "  }\n",
              "  th {\n",
              "    text-align: left;\n",
              "  }\n",
              "</style><div class='table-result-container'><table class='table-result'><thead style='background-color: white'><tr><th>housing</th><th>deposit</th><th>count</th></tr></thead><tbody><tr><td>no</td><td>no</td><td>2527</td></tr><tr><td>no</td><td>yes</td><td>3354</td></tr><tr><td>yes</td><td>yes</td><td>1935</td></tr><tr><td>yes</td><td>no</td><td>3346</td></tr></tbody></table></div>"
            ]
          },
          "metadata": {
            "tags": [],
            "application/vnd.databricks.v1+output": {
              "addedWidgets": {},
              "aggData": [],
              "aggError": "",
              "aggOverflow": false,
              "aggSchema": [],
              "aggSeriesLimitReached": false,
              "aggType": "",
              "arguments": {},
              "columnCustomDisplayInfos": {},
              "data": [
                [
                  "no",
                  "no",
                  2527
                ],
                [
                  "no",
                  "yes",
                  3354
                ],
                [
                  "yes",
                  "yes",
                  1935
                ],
                [
                  "yes",
                  "no",
                  3346
                ]
              ],
              "datasetInfos": [],
              "dbfsResultPath": null,
              "isJsonSchema": true,
              "overflow": false,
              "plotOptions": {
                "customPlotOptions": {},
                "displayType": "table",
                "pivotAggregation": null,
                "pivotColumns": null,
                "xColumns": null,
                "yColumns": null
              },
              "removedWidgets": [],
              "schema": [
                {
                  "metadata": "{}",
                  "name": "housing",
                  "type": "\"string\""
                },
                {
                  "metadata": "{}",
                  "name": "deposit",
                  "type": "\"string\""
                },
                {
                  "metadata": "{}",
                  "name": "count",
                  "type": "\"long\""
                }
              ],
              "type": "table"
            }
          }
        }
      ]
    },
    {
      "cell_type": "code",
      "metadata": {
        "application/vnd.databricks.v1+cell": {
          "inputWidgets": {},
          "nuid": "67d3c467-3d9c-42fd-8538-68655903b07e",
          "showTitle": false,
          "title": ""
        },
        "id": "IDadiVNdk5Uq",
        "outputId": "990e3cd3-082f-4ad7-a6a3-dfa3851bc799"
      },
      "source": [
        "# Data Preprocessing - \n",
        "# The following function code initially inspired from here indexes each categorical column using the StringIndexer, and then converts the indexed categories into one-hot encoded variables. The resulting output has the binary vectors appended to the end of each row. Then, the StringIndexer is used again to encode the labels to label indices. Finally, the VectorAssembler function is used to combine all the feature columns into a single vector column. This includes both the numeric columns and the one-hot encoded binary vector columns in the dataset. Index labels, adding metadata to the label column by using the StringIndexer again to encode the labels to label indices.\n",
        "# Running the stages as a Pipeline is used to chain multiple Transformers and Estimators together. This puts the data through all of the feature transformations we described in a single call.\n",
        "\n",
        "def get_dummy(df, categoricalCols, numCols, labelCol):\n",
        "  \n",
        "  indexers = [StringIndexer(inputCol=c, outputCol=\"{}_indexed\".format(c)) for c in categoricalCols] # stringIndexer would assign a number to every category of that column\n",
        "\n",
        "  # The output of the indexers is used input for the oneHotEncoder. We will one hot encode them, this means the number is converted into the form of array of 0s and 1s in this case of actual category was. Eg : A B C, so for A - Array is [1, 0, 0], for B - Array is [0, 1, 0]\n",
        "  encoders = [OneHotEncoder(inputCol=indexer.getOutputCol(),outputCol=\"{}_encoded\".format(indexer.getOutputCol())) for indexer in indexers]\n",
        "  \n",
        "  indexer = StringIndexer(inputCol=labelCol, outputCol='indexedLabel')\n",
        "\n",
        "  # VectorAssembler is the list of string of inputCols which all are combine to get the outputCol\n",
        "  assembler = VectorAssembler(inputCols=[encoder.getOutputCol() for encoder in encoders] + numCols, outputCol=\"features\")\n",
        "  \n",
        "  pipeline = Pipeline(stages = indexers + encoders + [assembler] + [indexer]) # Pipeline does is it set the stages for the different steps. If there is complex machine learning task then to set stages. \n",
        "\n",
        "  model=pipeline.fit(df) # To fit above created pipeline to the dataframe \n",
        "  data = model.transform(df) # Transform the dataframe to this model \n",
        "\n",
        "  # we use withColumn function where first parameter is the name of the column and second parameter is the existing col -> It is column.Column datatype. ALSO THIS CHANGES ARE NOT PERMENANT ON THE ORIGINAL DATAFRAME.  \n",
        "  data = data.withColumn('label', col(labelCol))  # To add the label in the data table\n",
        "  \n",
        "  return data.select('features', 'indexedLabel', 'label'), StringIndexer(inputCol='label').fit(data) # To fit the indices [0,1 -> (No, Yes)] of label using stringindexer onto the data. "
      ],
      "execution_count": null,
      "outputs": [
        {
          "output_type": "display_data",
          "data": {
            "text/html": [
              "<style scoped>\n",
              "  .ansiout {\n",
              "    display: block;\n",
              "    unicode-bidi: embed;\n",
              "    white-space: pre-wrap;\n",
              "    word-wrap: break-word;\n",
              "    word-break: break-all;\n",
              "    font-family: \"Source Code Pro\", \"Menlo\", monospace;;\n",
              "    font-size: 13px;\n",
              "    color: #555;\n",
              "    margin-left: 4px;\n",
              "    line-height: 19px;\n",
              "  }\n",
              "</style>\n",
              "<div class=\"ansiout\"></div>"
            ]
          },
          "metadata": {
            "tags": [],
            "application/vnd.databricks.v1+output": {
              "addedWidgets": {},
              "arguments": {},
              "data": "<div class=\"ansiout\"></div>",
              "datasetInfos": [],
              "removedWidgets": [],
              "type": "html"
            }
          }
        }
      ]
    },
    {
      "cell_type": "code",
      "metadata": {
        "application/vnd.databricks.v1+cell": {
          "inputWidgets": {},
          "nuid": "e421e75a-3fb3-4dda-a41b-87c7c7dc4928",
          "showTitle": false,
          "title": ""
        },
        "id": "X0nF-UClk5Ur",
        "outputId": "8288611b-6dbc-4c2c-aca6-85d7c1d86faa"
      },
      "source": [
        "categoricalColumns = ['job', 'marital', 'education', 'default', 'housing', 'loan', 'contact', 'poutcome'] # String type of data \n",
        "numericCols = ['age', 'balance', 'duration', 'campaign', 'pdays', 'previous'] # integer type of data. "
      ],
      "execution_count": null,
      "outputs": [
        {
          "output_type": "display_data",
          "data": {
            "text/html": [
              "<style scoped>\n",
              "  .ansiout {\n",
              "    display: block;\n",
              "    unicode-bidi: embed;\n",
              "    white-space: pre-wrap;\n",
              "    word-wrap: break-word;\n",
              "    word-break: break-all;\n",
              "    font-family: \"Source Code Pro\", \"Menlo\", monospace;;\n",
              "    font-size: 13px;\n",
              "    color: #555;\n",
              "    margin-left: 4px;\n",
              "    line-height: 19px;\n",
              "  }\n",
              "</style>\n",
              "<div class=\"ansiout\"></div>"
            ]
          },
          "metadata": {
            "tags": [],
            "application/vnd.databricks.v1+output": {
              "addedWidgets": {},
              "arguments": {},
              "data": "<div class=\"ansiout\"></div>",
              "datasetInfos": [],
              "removedWidgets": [],
              "type": "html"
            }
          }
        }
      ]
    },
    {
      "cell_type": "code",
      "metadata": {
        "application/vnd.databricks.v1+cell": {
          "inputWidgets": {},
          "nuid": "3de78d37-daa3-4ad4-bde1-ac783b57579c",
          "showTitle": false,
          "title": ""
        },
        "id": "GpOQxby5k5Us"
      },
      "source": [
        "(bank_df, labelIndexer) = get_dummy(bank_df, categoricalColumns, numericCols, 'deposit') # To call the above function \n",
        "bank_df.show(3)"
      ],
      "execution_count": null,
      "outputs": []
    },
    {
      "cell_type": "code",
      "metadata": {
        "application/vnd.databricks.v1+cell": {
          "inputWidgets": {},
          "nuid": "de003df7-b5a8-4a5d-8f39-203f58f4cba6",
          "showTitle": false,
          "title": ""
        },
        "id": "Qr2byqMzk5Us",
        "outputId": "2fe1d5f2-27cb-4fd2-fc22-f14aa0f18e88"
      },
      "source": [
        "featureIndexer = VectorIndexer(inputCol=\"features\", outputCol=\"indexedFeatures\", maxCategories=10).fit(bank_df) \n",
        "featureIndexer.transform(bank_df).show(5)"
      ],
      "execution_count": null,
      "outputs": [
        {
          "output_type": "display_data",
          "data": {
            "text/html": [
              "<style scoped>\n",
              "  .ansiout {\n",
              "    display: block;\n",
              "    unicode-bidi: embed;\n",
              "    white-space: pre-wrap;\n",
              "    word-wrap: break-word;\n",
              "    word-break: break-all;\n",
              "    font-family: \"Source Code Pro\", \"Menlo\", monospace;;\n",
              "    font-size: 13px;\n",
              "    color: #555;\n",
              "    margin-left: 4px;\n",
              "    line-height: 19px;\n",
              "  }\n",
              "</style>\n",
              "<div class=\"ansiout\">+--------------------+------------+-----+--------------------+\n",
              "            features|indexedLabel|label|     indexedFeatures|\n",
              "+--------------------+------------+-----+--------------------+\n",
              "(30,[3,11,13,16,1...|         1.0|  yes|(30,[3,11,13,16,1...|\n",
              "(30,[3,11,13,16,1...|         1.0|  yes|(30,[3,11,13,16,1...|\n",
              "(30,[2,11,13,16,1...|         1.0|  yes|(30,[2,11,13,16,1...|\n",
              "(30,[4,11,13,16,1...|         1.0|  yes|(30,[4,11,13,16,1...|\n",
              "(30,[3,11,14,16,1...|         1.0|  yes|(30,[3,11,14,16,1...|\n",
              "+--------------------+------------+-----+--------------------+\n",
              "only showing top 5 rows\n",
              "\n",
              "</div>"
            ]
          },
          "metadata": {
            "tags": [],
            "application/vnd.databricks.v1+output": {
              "addedWidgets": {},
              "arguments": {},
              "data": "<div class=\"ansiout\">+--------------------+------------+-----+--------------------+\n|            features|indexedLabel|label|     indexedFeatures|\n+--------------------+------------+-----+--------------------+\n|(30,[3,11,13,16,1...|         1.0|  yes|(30,[3,11,13,16,1...|\n|(30,[3,11,13,16,1...|         1.0|  yes|(30,[3,11,13,16,1...|\n|(30,[2,11,13,16,1...|         1.0|  yes|(30,[2,11,13,16,1...|\n|(30,[4,11,13,16,1...|         1.0|  yes|(30,[4,11,13,16,1...|\n|(30,[3,11,14,16,1...|         1.0|  yes|(30,[3,11,14,16,1...|\n+--------------------+------------+-----+--------------------+\nonly showing top 5 rows\n\n</div>",
              "datasetInfos": [],
              "removedWidgets": [],
              "type": "html"
            }
          }
        }
      ]
    },
    {
      "cell_type": "code",
      "metadata": {
        "application/vnd.databricks.v1+cell": {
          "inputWidgets": {},
          "nuid": "2fc2db9d-1cb6-4337-8629-98d017a279f4",
          "showTitle": false,
          "title": ""
        },
        "id": "8jGLc6izk5Us",
        "outputId": "16b79d00-5a5a-4385-b896-f7799cd62dcc"
      },
      "source": [
        "bank_df.show(5,False)"
      ],
      "execution_count": null,
      "outputs": [
        {
          "output_type": "display_data",
          "data": {
            "text/html": [
              "<style scoped>\n",
              "  .ansiout {\n",
              "    display: block;\n",
              "    unicode-bidi: embed;\n",
              "    white-space: pre-wrap;\n",
              "    word-wrap: break-word;\n",
              "    word-break: break-all;\n",
              "    font-family: \"Source Code Pro\", \"Menlo\", monospace;;\n",
              "    font-size: 13px;\n",
              "    color: #555;\n",
              "    margin-left: 4px;\n",
              "    line-height: 19px;\n",
              "  }\n",
              "</style>\n",
              "<div class=\"ansiout\">+--------------------------------------------------------------------------------------------------------+------------+-----+\n",
              "features                                                                                                |indexedLabel|label|\n",
              "+--------------------------------------------------------------------------------------------------------+------------+-----+\n",
              "(30,[3,11,13,16,18,20,21,24,25,26,27,28],[1.0,1.0,1.0,1.0,1.0,1.0,1.0,59.0,2343.0,1042.0,1.0,-1.0])     |1.0         |yes  |\n",
              "(30,[3,11,13,16,17,18,20,21,24,25,26,27,28],[1.0,1.0,1.0,1.0,1.0,1.0,1.0,1.0,56.0,45.0,1467.0,1.0,-1.0])|1.0         |yes  |\n",
              "(30,[2,11,13,16,18,20,21,24,25,26,27,28],[1.0,1.0,1.0,1.0,1.0,1.0,1.0,41.0,1270.0,1389.0,1.0,-1.0])     |1.0         |yes  |\n",
              "(30,[4,11,13,16,18,20,21,24,25,26,27,28],[1.0,1.0,1.0,1.0,1.0,1.0,1.0,55.0,2476.0,579.0,1.0,-1.0])      |1.0         |yes  |\n",
              "(30,[3,11,14,16,17,18,20,21,24,25,26,27,28],[1.0,1.0,1.0,1.0,1.0,1.0,1.0,1.0,54.0,184.0,673.0,2.0,-1.0])|1.0         |yes  |\n",
              "+--------------------------------------------------------------------------------------------------------+------------+-----+\n",
              "only showing top 5 rows\n",
              "\n",
              "</div>"
            ]
          },
          "metadata": {
            "tags": [],
            "application/vnd.databricks.v1+output": {
              "addedWidgets": {},
              "arguments": {},
              "data": "<div class=\"ansiout\">+--------------------------------------------------------------------------------------------------------+------------+-----+\n|features                                                                                                |indexedLabel|label|\n+--------------------------------------------------------------------------------------------------------+------------+-----+\n|(30,[3,11,13,16,18,20,21,24,25,26,27,28],[1.0,1.0,1.0,1.0,1.0,1.0,1.0,59.0,2343.0,1042.0,1.0,-1.0])     |1.0         |yes  |\n|(30,[3,11,13,16,17,18,20,21,24,25,26,27,28],[1.0,1.0,1.0,1.0,1.0,1.0,1.0,1.0,56.0,45.0,1467.0,1.0,-1.0])|1.0         |yes  |\n|(30,[2,11,13,16,18,20,21,24,25,26,27,28],[1.0,1.0,1.0,1.0,1.0,1.0,1.0,41.0,1270.0,1389.0,1.0,-1.0])     |1.0         |yes  |\n|(30,[4,11,13,16,18,20,21,24,25,26,27,28],[1.0,1.0,1.0,1.0,1.0,1.0,1.0,55.0,2476.0,579.0,1.0,-1.0])      |1.0         |yes  |\n|(30,[3,11,14,16,17,18,20,21,24,25,26,27,28],[1.0,1.0,1.0,1.0,1.0,1.0,1.0,1.0,54.0,184.0,673.0,2.0,-1.0])|1.0         |yes  |\n+--------------------------------------------------------------------------------------------------------+------------+-----+\nonly showing top 5 rows\n\n</div>",
              "datasetInfos": [],
              "removedWidgets": [],
              "type": "html"
            }
          }
        }
      ]
    },
    {
      "cell_type": "code",
      "metadata": {
        "application/vnd.databricks.v1+cell": {
          "inputWidgets": {},
          "nuid": "6430e1b2-feba-4562-b4cc-3959af58e16e",
          "showTitle": false,
          "title": ""
        },
        "id": "hlxeQmTDk5Ut",
        "outputId": "9cc0777e-4f6d-4873-82e1-a308fea4c434"
      },
      "source": [
        "# Using Random split to train and test the data \n",
        "training_data, test_data = bank_df.randomSplit([0.8, 0.2], seed=10) # Setting seed for reproducibility. Seed value is for random number generator. Seed function is used to save the state of a random function, so that it can generate same random numbers on multiple executions of the code on the same machine. \n",
        "print(\"Training Dataset Count: \" + str(training_data.count()))\n",
        "print(\"Test Dataset Count: \" + str(test_data.count()))"
      ],
      "execution_count": null,
      "outputs": [
        {
          "output_type": "display_data",
          "data": {
            "text/html": [
              "<style scoped>\n",
              "  .ansiout {\n",
              "    display: block;\n",
              "    unicode-bidi: embed;\n",
              "    white-space: pre-wrap;\n",
              "    word-wrap: break-word;\n",
              "    word-break: break-all;\n",
              "    font-family: \"Source Code Pro\", \"Menlo\", monospace;;\n",
              "    font-size: 13px;\n",
              "    color: #555;\n",
              "    margin-left: 4px;\n",
              "    line-height: 19px;\n",
              "  }\n",
              "</style>\n",
              "<div class=\"ansiout\">Training Dataset Count: 8911\n",
              "Test Dataset Count: 2251\n",
              "</div>"
            ]
          },
          "metadata": {
            "tags": [],
            "application/vnd.databricks.v1+output": {
              "addedWidgets": {},
              "arguments": {},
              "data": "<div class=\"ansiout\">Training Dataset Count: 8911\nTest Dataset Count: 2251\n</div>",
              "datasetInfos": [],
              "removedWidgets": [],
              "type": "html"
            }
          }
        }
      ]
    },
    {
      "cell_type": "code",
      "metadata": {
        "application/vnd.databricks.v1+cell": {
          "inputWidgets": {},
          "nuid": "dbcc21d9-b24d-4cad-a122-3323976c6387",
          "showTitle": false,
          "title": ""
        },
        "id": "e58xkmHSk5Ut",
        "outputId": "3ca8bfda-c130-45d4-d069-d0c06b63d5d6"
      },
      "source": [
        "print(\"The first 5 samples of the Training Dataset:\")\n",
        "training_data.show(5,False)\n",
        "print(\"The first 5 samples of the Test Dataset:\")\n",
        "test_data.show(5,False)"
      ],
      "execution_count": null,
      "outputs": [
        {
          "output_type": "display_data",
          "data": {
            "text/html": [
              "<style scoped>\n",
              "  .ansiout {\n",
              "    display: block;\n",
              "    unicode-bidi: embed;\n",
              "    white-space: pre-wrap;\n",
              "    word-wrap: break-word;\n",
              "    word-break: break-all;\n",
              "    font-family: \"Source Code Pro\", \"Menlo\", monospace;;\n",
              "    font-size: 13px;\n",
              "    color: #555;\n",
              "    margin-left: 4px;\n",
              "    line-height: 19px;\n",
              "  }\n",
              "</style>\n",
              "<div class=\"ansiout\">The first 5 samples of the Training Dataset:\n",
              "+---------------------------------------------------------------------------------------------------------+------------+-----+\n",
              "features                                                                                                 |indexedLabel|label|\n",
              "+---------------------------------------------------------------------------------------------------------+------------+-----+\n",
              "(30,[0,11,13,16,17,18,19,21,24,25,26,27,28],[1.0,1.0,1.0,1.0,1.0,1.0,1.0,1.0,27.0,2071.0,449.0,1.0,-1.0])|1.0         |yes  |\n",
              "(30,[0,11,13,16,17,18,19,21,24,25,26,27,28],[1.0,1.0,1.0,1.0,1.0,1.0,1.0,1.0,33.0,333.0,80.0,6.0,-1.0])  |0.0         |no   |\n",
              "(30,[0,11,13,16,17,18,19,21,24,25,26,27,28],[1.0,1.0,1.0,1.0,1.0,1.0,1.0,1.0,33.0,369.0,446.0,1.0,-1.0]) |1.0         |yes  |\n",
              "(30,[0,11,13,16,17,18,19,21,24,25,26,27,28],[1.0,1.0,1.0,1.0,1.0,1.0,1.0,1.0,34.0,355.0,314.0,3.0,-1.0]) |0.0         |no   |\n",
              "(30,[0,11,13,16,17,18,19,21,24,25,26,27,28],[1.0,1.0,1.0,1.0,1.0,1.0,1.0,1.0,36.0,565.0,300.0,1.0,-1.0]) |1.0         |yes  |\n",
              "+---------------------------------------------------------------------------------------------------------+------------+-----+\n",
              "only showing top 5 rows\n",
              "\n",
              "The first 5 samples of the Test Dataset:\n",
              "+---------------------------------------------------------------------------------------------------------+------------+-----+\n",
              "features                                                                                                 |indexedLabel|label|\n",
              "+---------------------------------------------------------------------------------------------------------+------------+-----+\n",
              "(30,[0,11,13,16,17,18,19,21,24,25,26,27,28],[1.0,1.0,1.0,1.0,1.0,1.0,1.0,1.0,30.0,850.0,507.0,2.0,-1.0]) |1.0         |yes  |\n",
              "(30,[0,11,13,16,17,18,19,21,24,25,26,27,28],[1.0,1.0,1.0,1.0,1.0,1.0,1.0,1.0,33.0,336.0,179.0,3.0,-1.0]) |1.0         |yes  |\n",
              "(30,[0,11,13,16,17,18,19,21,24,25,26,27,28],[1.0,1.0,1.0,1.0,1.0,1.0,1.0,1.0,35.0,533.0,221.0,12.0,-1.0])|0.0         |no   |\n",
              "(30,[0,11,13,16,17,18,19,21,24,25,26,27,28],[1.0,1.0,1.0,1.0,1.0,1.0,1.0,1.0,39.0,1880.0,768.0,2.0,-1.0])|1.0         |yes  |\n",
              "(30,[0,11,13,16,17,18,19,21,24,25,26,27,28],[1.0,1.0,1.0,1.0,1.0,1.0,1.0,1.0,40.0,4396.0,432.0,3.0,-1.0])|1.0         |yes  |\n",
              "+---------------------------------------------------------------------------------------------------------+------------+-----+\n",
              "only showing top 5 rows\n",
              "\n",
              "</div>"
            ]
          },
          "metadata": {
            "tags": [],
            "application/vnd.databricks.v1+output": {
              "addedWidgets": {},
              "arguments": {},
              "data": "<div class=\"ansiout\">The first 5 samples of the Training Dataset:\n+---------------------------------------------------------------------------------------------------------+------------+-----+\n|features                                                                                                 |indexedLabel|label|\n+---------------------------------------------------------------------------------------------------------+------------+-----+\n|(30,[0,11,13,16,17,18,19,21,24,25,26,27,28],[1.0,1.0,1.0,1.0,1.0,1.0,1.0,1.0,27.0,2071.0,449.0,1.0,-1.0])|1.0         |yes  |\n|(30,[0,11,13,16,17,18,19,21,24,25,26,27,28],[1.0,1.0,1.0,1.0,1.0,1.0,1.0,1.0,33.0,333.0,80.0,6.0,-1.0])  |0.0         |no   |\n|(30,[0,11,13,16,17,18,19,21,24,25,26,27,28],[1.0,1.0,1.0,1.0,1.0,1.0,1.0,1.0,33.0,369.0,446.0,1.0,-1.0]) |1.0         |yes  |\n|(30,[0,11,13,16,17,18,19,21,24,25,26,27,28],[1.0,1.0,1.0,1.0,1.0,1.0,1.0,1.0,34.0,355.0,314.0,3.0,-1.0]) |0.0         |no   |\n|(30,[0,11,13,16,17,18,19,21,24,25,26,27,28],[1.0,1.0,1.0,1.0,1.0,1.0,1.0,1.0,36.0,565.0,300.0,1.0,-1.0]) |1.0         |yes  |\n+---------------------------------------------------------------------------------------------------------+------------+-----+\nonly showing top 5 rows\n\nThe first 5 samples of the Test Dataset:\n+---------------------------------------------------------------------------------------------------------+------------+-----+\n|features                                                                                                 |indexedLabel|label|\n+---------------------------------------------------------------------------------------------------------+------------+-----+\n|(30,[0,11,13,16,17,18,19,21,24,25,26,27,28],[1.0,1.0,1.0,1.0,1.0,1.0,1.0,1.0,30.0,850.0,507.0,2.0,-1.0]) |1.0         |yes  |\n|(30,[0,11,13,16,17,18,19,21,24,25,26,27,28],[1.0,1.0,1.0,1.0,1.0,1.0,1.0,1.0,33.0,336.0,179.0,3.0,-1.0]) |1.0         |yes  |\n|(30,[0,11,13,16,17,18,19,21,24,25,26,27,28],[1.0,1.0,1.0,1.0,1.0,1.0,1.0,1.0,35.0,533.0,221.0,12.0,-1.0])|0.0         |no   |\n|(30,[0,11,13,16,17,18,19,21,24,25,26,27,28],[1.0,1.0,1.0,1.0,1.0,1.0,1.0,1.0,39.0,1880.0,768.0,2.0,-1.0])|1.0         |yes  |\n|(30,[0,11,13,16,17,18,19,21,24,25,26,27,28],[1.0,1.0,1.0,1.0,1.0,1.0,1.0,1.0,40.0,4396.0,432.0,3.0,-1.0])|1.0         |yes  |\n+---------------------------------------------------------------------------------------------------------+------------+-----+\nonly showing top 5 rows\n\n</div>",
              "datasetInfos": [],
              "removedWidgets": [],
              "type": "html"
            }
          }
        }
      ]
    },
    {
      "cell_type": "code",
      "metadata": {
        "application/vnd.databricks.v1+cell": {
          "inputWidgets": {},
          "nuid": "53eb76f4-5248-4b1d-810b-d21e11ebad83",
          "showTitle": false,
          "title": ""
        },
        "id": "KhcNZE-Nk5Uu",
        "outputId": "c8029a52-3620-4f98-b1a2-cd31d6386e3c"
      },
      "source": [
        "# Logistics Regression - Logistic regression is a popular method to predict a categorical response. In spark.ml logistic regression can be used to predict a binary outcome by using binomial logistic regression, or it can be used to predict a multiclass outcome by using multinomial logistic regression. \n",
        "# Create initial LogisticRegression model and then train it using the Training Data\n",
        "\n",
        "lr = LogisticRegression(labelCol= \"indexedLabel\", featuresCol = \"features\")"
      ],
      "execution_count": null,
      "outputs": [
        {
          "output_type": "display_data",
          "data": {
            "text/html": [
              "<style scoped>\n",
              "  .ansiout {\n",
              "    display: block;\n",
              "    unicode-bidi: embed;\n",
              "    white-space: pre-wrap;\n",
              "    word-wrap: break-word;\n",
              "    word-break: break-all;\n",
              "    font-family: \"Source Code Pro\", \"Menlo\", monospace;;\n",
              "    font-size: 13px;\n",
              "    color: #555;\n",
              "    margin-left: 4px;\n",
              "    line-height: 19px;\n",
              "  }\n",
              "</style>\n",
              "<div class=\"ansiout\"></div>"
            ]
          },
          "metadata": {
            "tags": [],
            "application/vnd.databricks.v1+output": {
              "addedWidgets": {},
              "arguments": {},
              "data": "<div class=\"ansiout\"></div>",
              "datasetInfos": [],
              "removedWidgets": [],
              "type": "html"
            }
          }
        }
      ]
    },
    {
      "cell_type": "code",
      "metadata": {
        "application/vnd.databricks.v1+cell": {
          "inputWidgets": {},
          "nuid": "29eef988-3dc4-43e9-b33c-28706e9f2280",
          "showTitle": false,
          "title": ""
        },
        "id": "G5H1-_hCk5Uu",
        "outputId": "9fb1e019-afd8-4c8a-a462-b388c4343901"
      },
      "source": [
        "# Pipeline architecture:-\n",
        "# Convert indexed labels back to original labels\n",
        "# Chain indexers and tree in a Pipeline\n",
        "# Train modelwe transform on this unlabeled_data in which we get the prediction value for the corrosponding features. \n",
        "label_converter = IndexToString(inputCol = \"prediction\", outputCol= \"predictionLabel\", labels = labelIndexer.labels) # inputCol is binary number, OutputCol is the string  \n",
        "\n",
        "pipeline = Pipeline(stages=[featureIndexer, lr, label_converter])\n",
        "lrModel = pipeline.fit(training_data) # To fit the pipeline to the training data. "
      ],
      "execution_count": null,
      "outputs": [
        {
          "output_type": "display_data",
          "data": {
            "text/html": [
              "<style scoped>\n",
              "  .ansiout {\n",
              "    display: block;\n",
              "    unicode-bidi: embed;\n",
              "    white-space: pre-wrap;\n",
              "    word-wrap: break-word;\n",
              "    word-break: break-all;\n",
              "    font-family: \"Source Code Pro\", \"Menlo\", monospace;;\n",
              "    font-size: 13px;\n",
              "    color: #555;\n",
              "    margin-left: 4px;\n",
              "    line-height: 19px;\n",
              "  }\n",
              "</style>\n",
              "<div class=\"ansiout\"></div>"
            ]
          },
          "metadata": {
            "tags": [],
            "application/vnd.databricks.v1+output": {
              "addedWidgets": {},
              "arguments": {},
              "data": "<div class=\"ansiout\"></div>",
              "datasetInfos": [],
              "removedWidgets": [],
              "type": "html"
            }
          }
        }
      ]
    },
    {
      "cell_type": "code",
      "metadata": {
        "application/vnd.databricks.v1+cell": {
          "inputWidgets": {},
          "nuid": "9f1715ff-50d4-49c2-923e-e95653aca694",
          "showTitle": false,
          "title": ""
        },
        "id": "NgcT4Ho8k5Uv",
        "outputId": "fe8dd961-ce27-4c62-b448-3c04a519a105"
      },
      "source": [
        "# we transform on this unlabeled_data (test_data) for which we get the prediction value for the corrosponding features. LogisticRegression.transform() will only use the column given in featuresCol parameter.\n",
        "predictions = lrModel.transform(test_data)\n",
        "predictions.show(5)"
      ],
      "execution_count": null,
      "outputs": [
        {
          "output_type": "display_data",
          "data": {
            "text/html": [
              "<style scoped>\n",
              "  .ansiout {\n",
              "    display: block;\n",
              "    unicode-bidi: embed;\n",
              "    white-space: pre-wrap;\n",
              "    word-wrap: break-word;\n",
              "    word-break: break-all;\n",
              "    font-family: \"Source Code Pro\", \"Menlo\", monospace;;\n",
              "    font-size: 13px;\n",
              "    color: #555;\n",
              "    margin-left: 4px;\n",
              "    line-height: 19px;\n",
              "  }\n",
              "</style>\n",
              "<div class=\"ansiout\">+--------------------+------------+-----+--------------------+--------------------+--------------------+----------+---------------+\n",
              "            features|indexedLabel|label|     indexedFeatures|       rawPrediction|         probability|prediction|predictionLabel|\n",
              "+--------------------+------------+-----+--------------------+--------------------+--------------------+----------+---------------+\n",
              "(30,[0,11,13,16,1...|         1.0|  yes|(30,[0,11,13,16,1...|[-0.9031867954374...|[0.28839605044088...|       1.0|            yes|\n",
              "(30,[0,11,13,16,1...|         1.0|  yes|(30,[0,11,13,16,1...|[0.99433207999729...|[0.72994273958118...|       0.0|             no|\n",
              "(30,[0,11,13,16,1...|         0.0|   no|(30,[0,11,13,16,1...|[1.77845936982699...|[0.85550652502828...|       0.0|             no|\n",
              "(30,[0,11,13,16,1...|         1.0|  yes|(30,[0,11,13,16,1...|[-2.3406912861560...|[0.08780852827922...|       1.0|            yes|\n",
              "(30,[0,11,13,16,1...|         1.0|  yes|(30,[0,11,13,16,1...|[-0.4928197275846...|[0.37922953722179...|       1.0|            yes|\n",
              "+--------------------+------------+-----+--------------------+--------------------+--------------------+----------+---------------+\n",
              "only showing top 5 rows\n",
              "\n",
              "</div>"
            ]
          },
          "metadata": {
            "tags": [],
            "application/vnd.databricks.v1+output": {
              "addedWidgets": {},
              "arguments": {},
              "data": "<div class=\"ansiout\">+--------------------+------------+-----+--------------------+--------------------+--------------------+----------+---------------+\n|            features|indexedLabel|label|     indexedFeatures|       rawPrediction|         probability|prediction|predictionLabel|\n+--------------------+------------+-----+--------------------+--------------------+--------------------+----------+---------------+\n|(30,[0,11,13,16,1...|         1.0|  yes|(30,[0,11,13,16,1...|[-0.9031867954374...|[0.28839605044088...|       1.0|            yes|\n|(30,[0,11,13,16,1...|         1.0|  yes|(30,[0,11,13,16,1...|[0.99433207999729...|[0.72994273958118...|       0.0|             no|\n|(30,[0,11,13,16,1...|         0.0|   no|(30,[0,11,13,16,1...|[1.77845936982699...|[0.85550652502828...|       0.0|             no|\n|(30,[0,11,13,16,1...|         1.0|  yes|(30,[0,11,13,16,1...|[-2.3406912861560...|[0.08780852827922...|       1.0|            yes|\n|(30,[0,11,13,16,1...|         1.0|  yes|(30,[0,11,13,16,1...|[-0.4928197275846...|[0.37922953722179...|       1.0|            yes|\n+--------------------+------------+-----+--------------------+--------------------+--------------------+----------+---------------+\nonly showing top 5 rows\n\n</div>",
              "datasetInfos": [],
              "removedWidgets": [],
              "type": "html"
            }
          }
        }
      ]
    },
    {
      "cell_type": "code",
      "metadata": {
        "application/vnd.databricks.v1+cell": {
          "inputWidgets": {},
          "nuid": "729f77bc-1192-47c7-99b3-d9e10bcea34e",
          "showTitle": false,
          "title": ""
        },
        "id": "RMN8GrHZk5Uv",
        "outputId": "45c723f7-3460-4401-8f90-1430fc9b1929"
      },
      "source": [
        "predictions.select(\"features\", \"label\", \"probability\", \"predictionLabel\").show()"
      ],
      "execution_count": null,
      "outputs": [
        {
          "output_type": "display_data",
          "data": {
            "text/html": [
              "<style scoped>\n",
              "  .ansiout {\n",
              "    display: block;\n",
              "    unicode-bidi: embed;\n",
              "    white-space: pre-wrap;\n",
              "    word-wrap: break-word;\n",
              "    word-break: break-all;\n",
              "    font-family: \"Source Code Pro\", \"Menlo\", monospace;;\n",
              "    font-size: 13px;\n",
              "    color: #555;\n",
              "    margin-left: 4px;\n",
              "    line-height: 19px;\n",
              "  }\n",
              "</style>\n",
              "<div class=\"ansiout\">+--------------------+-----+--------------------+---------------+\n",
              "            features|label|         probability|predictionLabel|\n",
              "+--------------------+-----+--------------------+---------------+\n",
              "(30,[0,11,13,16,1...|  yes|[0.28839605044088...|            yes|\n",
              "(30,[0,11,13,16,1...|  yes|[0.72994273958118...|             no|\n",
              "(30,[0,11,13,16,1...|   no|[0.85550652502828...|             no|\n",
              "(30,[0,11,13,16,1...|  yes|[0.08780852827922...|            yes|\n",
              "(30,[0,11,13,16,1...|  yes|[0.37922953722179...|            yes|\n",
              "(30,[0,11,13,16,1...|  yes|[0.57898243636579...|             no|\n",
              "(30,[0,11,13,16,1...|  yes|[0.04315497658152...|            yes|\n",
              "(30,[0,11,13,16,1...|  yes|[0.10541328752656...|            yes|\n",
              "(30,[0,11,13,16,1...|   no|[0.89142071938115...|             no|\n",
              "(30,[0,11,13,16,1...|  yes|[2.59592672419203...|            yes|\n",
              "(30,[0,11,13,16,1...|  yes|[0.26751087258647...|            yes|\n",
              "(30,[0,11,13,16,1...|  yes|[0.03599804825142...|            yes|\n",
              "(30,[0,11,13,16,1...|  yes|[0.46644715490476...|            yes|\n",
              "(30,[0,11,13,16,1...|  yes|[0.40381882949893...|            yes|\n",
              "(30,[0,11,13,16,1...|  yes|[0.47753698199753...|            yes|\n",
              "(30,[0,11,13,16,1...|  yes|[1.97101641009176...|            yes|\n",
              "(30,[0,11,13,16,1...|   no|[0.80527956326497...|             no|\n",
              "(30,[0,11,13,16,1...|  yes|[0.62450972105339...|             no|\n",
              "(30,[0,11,13,16,1...|   no|[0.26802795859406...|            yes|\n",
              "(30,[0,11,13,16,1...|  yes|[0.29944901224194...|            yes|\n",
              "+--------------------+-----+--------------------+---------------+\n",
              "only showing top 20 rows\n",
              "\n",
              "</div>"
            ]
          },
          "metadata": {
            "tags": [],
            "application/vnd.databricks.v1+output": {
              "addedWidgets": {},
              "arguments": {},
              "data": "<div class=\"ansiout\">+--------------------+-----+--------------------+---------------+\n|            features|label|         probability|predictionLabel|\n+--------------------+-----+--------------------+---------------+\n|(30,[0,11,13,16,1...|  yes|[0.28839605044088...|            yes|\n|(30,[0,11,13,16,1...|  yes|[0.72994273958118...|             no|\n|(30,[0,11,13,16,1...|   no|[0.85550652502828...|             no|\n|(30,[0,11,13,16,1...|  yes|[0.08780852827922...|            yes|\n|(30,[0,11,13,16,1...|  yes|[0.37922953722179...|            yes|\n|(30,[0,11,13,16,1...|  yes|[0.57898243636579...|             no|\n|(30,[0,11,13,16,1...|  yes|[0.04315497658152...|            yes|\n|(30,[0,11,13,16,1...|  yes|[0.10541328752656...|            yes|\n|(30,[0,11,13,16,1...|   no|[0.89142071938115...|             no|\n|(30,[0,11,13,16,1...|  yes|[2.59592672419203...|            yes|\n|(30,[0,11,13,16,1...|  yes|[0.26751087258647...|            yes|\n|(30,[0,11,13,16,1...|  yes|[0.03599804825142...|            yes|\n|(30,[0,11,13,16,1...|  yes|[0.46644715490476...|            yes|\n|(30,[0,11,13,16,1...|  yes|[0.40381882949893...|            yes|\n|(30,[0,11,13,16,1...|  yes|[0.47753698199753...|            yes|\n|(30,[0,11,13,16,1...|  yes|[1.97101641009176...|            yes|\n|(30,[0,11,13,16,1...|   no|[0.80527956326497...|             no|\n|(30,[0,11,13,16,1...|  yes|[0.62450972105339...|             no|\n|(30,[0,11,13,16,1...|   no|[0.26802795859406...|            yes|\n|(30,[0,11,13,16,1...|  yes|[0.29944901224194...|            yes|\n+--------------------+-----+--------------------+---------------+\nonly showing top 20 rows\n\n</div>",
              "datasetInfos": [],
              "removedWidgets": [],
              "type": "html"
            }
          }
        }
      ]
    },
    {
      "cell_type": "code",
      "metadata": {
        "application/vnd.databricks.v1+cell": {
          "inputWidgets": {},
          "nuid": "d5d53708-77b7-49d9-ac3a-c6577d17b5d7",
          "showTitle": false,
          "title": ""
        },
        "id": "2o2qd_GVk5Uw",
        "outputId": "a805eac1-0378-4f21-8393-72d322b21aba"
      },
      "source": [
        "# Computing the model accuracy. Create DataFrames with the label and the prediction to check the number of class in the label and the prediction\n",
        "cm = predictions.select(\"label\",\"predictionLabel\")\n",
        " \n",
        "cm.groupby('label').agg({'label': 'count'}).show()  # .agg (aggregate) is used to combine label and count and show the result. \t\n",
        "cm.groupby('predictionLabel').agg({'predictionLabel': 'count'}).show() # .agg (aggregate) is used to combine predictionLabel and count and show the result. "
      ],
      "execution_count": null,
      "outputs": [
        {
          "output_type": "display_data",
          "data": {
            "text/html": [
              "<style scoped>\n",
              "  .ansiout {\n",
              "    display: block;\n",
              "    unicode-bidi: embed;\n",
              "    white-space: pre-wrap;\n",
              "    word-wrap: break-word;\n",
              "    word-break: break-all;\n",
              "    font-family: \"Source Code Pro\", \"Menlo\", monospace;;\n",
              "    font-size: 13px;\n",
              "    color: #555;\n",
              "    margin-left: 4px;\n",
              "    line-height: 19px;\n",
              "  }\n",
              "</style>\n",
              "<div class=\"ansiout\">+-----+------------+\n",
              "label|count(label)|\n",
              "+-----+------------+\n",
              "   no|        1194|\n",
              "  yes|        1057|\n",
              "+-----+------------+\n",
              "\n",
              "+---------------+----------------------+\n",
              "predictionLabel|count(predictionLabel)|\n",
              "+---------------+----------------------+\n",
              "             no|                  1217|\n",
              "            yes|                  1034|\n",
              "+---------------+----------------------+\n",
              "\n",
              "</div>"
            ]
          },
          "metadata": {
            "tags": [],
            "application/vnd.databricks.v1+output": {
              "addedWidgets": {},
              "arguments": {},
              "data": "<div class=\"ansiout\">+-----+------------+\n|label|count(label)|\n+-----+------------+\n|   no|        1194|\n|  yes|        1057|\n+-----+------------+\n\n+---------------+----------------------+\n|predictionLabel|count(predictionLabel)|\n+---------------+----------------------+\n|             no|                  1217|\n|            yes|                  1034|\n+---------------+----------------------+\n\n</div>",
              "datasetInfos": [],
              "removedWidgets": [],
              "type": "html"
            }
          }
        }
      ]
    },
    {
      "cell_type": "code",
      "metadata": {
        "application/vnd.databricks.v1+cell": {
          "inputWidgets": {},
          "nuid": "8d1d62e7-c26d-40a3-ba0f-ffab6f17eb59",
          "showTitle": false,
          "title": ""
        },
        "id": "FzFA8OkIk5Uw",
        "outputId": "022d0e27-61d4-4425-a828-df5c603b4c9e"
      },
      "source": [
        "predictions.groupBy('label', 'predictionLabel').count().show()"
      ],
      "execution_count": null,
      "outputs": [
        {
          "output_type": "display_data",
          "data": {
            "text/html": [
              "<style scoped>\n",
              "  .ansiout {\n",
              "    display: block;\n",
              "    unicode-bidi: embed;\n",
              "    white-space: pre-wrap;\n",
              "    word-wrap: break-word;\n",
              "    word-break: break-all;\n",
              "    font-family: \"Source Code Pro\", \"Menlo\", monospace;;\n",
              "    font-size: 13px;\n",
              "    color: #555;\n",
              "    margin-left: 4px;\n",
              "    line-height: 19px;\n",
              "  }\n",
              "</style>\n",
              "<div class=\"ansiout\">+-----+---------------+-----+\n",
              "label|predictionLabel|count|\n",
              "+-----+---------------+-----+\n",
              "   no|             no|  977|\n",
              "   no|            yes|  217|\n",
              "  yes|            yes|  817|\n",
              "  yes|             no|  240|\n",
              "+-----+---------------+-----+\n",
              "\n",
              "</div>"
            ]
          },
          "metadata": {
            "tags": [],
            "application/vnd.databricks.v1+output": {
              "addedWidgets": {},
              "arguments": {},
              "data": "<div class=\"ansiout\">+-----+---------------+-----+\n|label|predictionLabel|count|\n+-----+---------------+-----+\n|   no|             no|  977|\n|   no|            yes|  217|\n|  yes|            yes|  817|\n|  yes|             no|  240|\n+-----+---------------+-----+\n\n</div>",
              "datasetInfos": [],
              "removedWidgets": [],
              "type": "html"
            }
          }
        }
      ]
    },
    {
      "cell_type": "code",
      "metadata": {
        "application/vnd.databricks.v1+cell": {
          "inputWidgets": {},
          "nuid": "8e617a42-bb21-4ec2-9c31-dfb3f374ff56",
          "showTitle": false,
          "title": ""
        },
        "id": "w42E3Nlpk5Ux",
        "outputId": "2a780cf2-f2ad-4129-c683-c7b1cde78c93"
      },
      "source": [
        "# To find the accuracy - We are checking that how many rows have cm.label == cm.predictionLabel i.e 2 column value should match for the row upon the total number of rows. \n",
        "# For instance, in the test dataset, there are 1021 customers that have the intension to subscribe a deposit and 1197 no. The classifier, however, predicted 972 clients having the intension to subscribe a deposit. It is possible to compute the accuracy of the model by computing the count when the labels are correctly classified over the total number of rows.\n",
        "\n",
        "print(\"The Accuracy for test set is {}\".format(cm.filter(cm.label == cm.predictionLabel).count()/cm.count()))"
      ],
      "execution_count": null,
      "outputs": [
        {
          "output_type": "display_data",
          "data": {
            "text/html": [
              "<style scoped>\n",
              "  .ansiout {\n",
              "    display: block;\n",
              "    unicode-bidi: embed;\n",
              "    white-space: pre-wrap;\n",
              "    word-wrap: break-word;\n",
              "    word-break: break-all;\n",
              "    font-family: \"Source Code Pro\", \"Menlo\", monospace;;\n",
              "    font-size: 13px;\n",
              "    color: #555;\n",
              "    margin-left: 4px;\n",
              "    line-height: 19px;\n",
              "  }\n",
              "</style>\n",
              "<div class=\"ansiout\">The Accuracy for test set is 0.7969791203909373\n",
              "</div>"
            ]
          },
          "metadata": {
            "tags": [],
            "application/vnd.databricks.v1+output": {
              "addedWidgets": {},
              "arguments": {},
              "data": "<div class=\"ansiout\">The Accuracy for test set is 0.7969791203909373\n</div>",
              "datasetInfos": [],
              "removedWidgets": [],
              "type": "html"
            }
          }
        }
      ]
    },
    {
      "cell_type": "code",
      "metadata": {
        "application/vnd.databricks.v1+cell": {
          "inputWidgets": {},
          "nuid": "d5ff76cc-a0be-4c91-b207-34c6281e13ae",
          "showTitle": false,
          "title": ""
        },
        "id": "nW2kubV9k5Ux",
        "outputId": "95d4a5d8-74a2-48a4-f807-27cdcf026961"
      },
      "source": [
        "# the accuracy of the model and other metrics can also be computed using the MulticlassClassificationEvaluator() function:\n",
        "evaluator = MulticlassClassificationEvaluator(labelCol=\"indexedLabel\", predictionCol = \"prediction\", metricName=\"accuracy\")\n",
        "print(\"The Accuracy for test set is {}\".format(evaluator.evaluate(predictions)))"
      ],
      "execution_count": null,
      "outputs": [
        {
          "output_type": "display_data",
          "data": {
            "text/html": [
              "<style scoped>\n",
              "  .ansiout {\n",
              "    display: block;\n",
              "    unicode-bidi: embed;\n",
              "    white-space: pre-wrap;\n",
              "    word-wrap: break-word;\n",
              "    word-break: break-all;\n",
              "    font-family: \"Source Code Pro\", \"Menlo\", monospace;;\n",
              "    font-size: 13px;\n",
              "    color: #555;\n",
              "    margin-left: 4px;\n",
              "    line-height: 19px;\n",
              "  }\n",
              "</style>\n",
              "<div class=\"ansiout\">The Accuracy for test set is 0.7969791203909373\n",
              "</div>"
            ]
          },
          "metadata": {
            "tags": [],
            "application/vnd.databricks.v1+output": {
              "addedWidgets": {},
              "arguments": {},
              "data": "<div class=\"ansiout\">The Accuracy for test set is 0.7969791203909373\n</div>",
              "datasetInfos": [],
              "removedWidgets": [],
              "type": "html"
            }
          }
        }
      ]
    },
    {
      "cell_type": "code",
      "metadata": {
        "application/vnd.databricks.v1+cell": {
          "inputWidgets": {},
          "nuid": "ba197c2e-259b-4066-bb59-d4eaa1d5c857",
          "showTitle": false,
          "title": ""
        },
        "id": "y9tj98-8k5Ux",
        "outputId": "d2abb48a-34d1-4a20-e64f-90e2825a92dc"
      },
      "source": [
        "# Use of RDD principles to compute some other metrics - RDD - Resilient Distributed Datasets\n",
        "# We can also generate a Confusion Matrix to better see the results of the predictions. ConfusionMatrix() works only with RDDs, so we will have to convert our DataFrame of (prediction, label) into a RDD.\n",
        "# confusionMatrix() returns a DenseMatrix with the columns representing the predicted class ordered by ascending class label, and each row represents the actual class ordered by ascending class label. The diagonal from top left to bottom right represents the observations that were predicted correctly.\n",
        "# Detailed explanation - https://gobiviswa.medium.com/apache-spark-rdd-internals-7c6604b54a23\n",
        "\n",
        "from pyspark.mllib.evaluation import BinaryClassificationMetrics\n",
        "from pyspark.mllib.evaluation import MulticlassMetrics"
      ],
      "execution_count": null,
      "outputs": [
        {
          "output_type": "display_data",
          "data": {
            "text/html": [
              "<style scoped>\n",
              "  .ansiout {\n",
              "    display: block;\n",
              "    unicode-bidi: embed;\n",
              "    white-space: pre-wrap;\n",
              "    word-wrap: break-word;\n",
              "    word-break: break-all;\n",
              "    font-family: \"Source Code Pro\", \"Menlo\", monospace;;\n",
              "    font-size: 13px;\n",
              "    color: #555;\n",
              "    margin-left: 4px;\n",
              "    line-height: 19px;\n",
              "  }\n",
              "</style>\n",
              "<div class=\"ansiout\"></div>"
            ]
          },
          "metadata": {
            "tags": [],
            "application/vnd.databricks.v1+output": {
              "addedWidgets": {},
              "arguments": {},
              "data": "<div class=\"ansiout\"></div>",
              "datasetInfos": [],
              "removedWidgets": [],
              "type": "html"
            }
          }
        }
      ]
    },
    {
      "cell_type": "code",
      "metadata": {
        "application/vnd.databricks.v1+cell": {
          "inputWidgets": {},
          "nuid": "c69cdbb1-a4c9-492d-aa98-774251c52d93",
          "showTitle": false,
          "title": ""
        },
        "id": "iRgZdVrQk5Uy",
        "outputId": "6ce34b11-b1e5-4b38-b0c3-a1b0f16db57c"
      },
      "source": [
        "predictionAndLabel = predictions.select(\"prediction\",\"indexedLabel\").rdd # To apply the rdd. "
      ],
      "execution_count": null,
      "outputs": [
        {
          "output_type": "display_data",
          "data": {
            "text/html": [
              "<style scoped>\n",
              "  .ansiout {\n",
              "    display: block;\n",
              "    unicode-bidi: embed;\n",
              "    white-space: pre-wrap;\n",
              "    word-wrap: break-word;\n",
              "    word-break: break-all;\n",
              "    font-family: \"Source Code Pro\", \"Menlo\", monospace;;\n",
              "    font-size: 13px;\n",
              "    color: #555;\n",
              "    margin-left: 4px;\n",
              "    line-height: 19px;\n",
              "  }\n",
              "</style>\n",
              "<div class=\"ansiout\"></div>"
            ]
          },
          "metadata": {
            "tags": [],
            "application/vnd.databricks.v1+output": {
              "addedWidgets": {},
              "arguments": {},
              "data": "<div class=\"ansiout\"></div>",
              "datasetInfos": [],
              "removedWidgets": [],
              "type": "html"
            }
          }
        }
      ]
    },
    {
      "cell_type": "code",
      "metadata": {
        "application/vnd.databricks.v1+cell": {
          "inputWidgets": {},
          "nuid": "35e1eb13-96cf-4a7a-a730-d3f45c226137",
          "showTitle": false,
          "title": ""
        },
        "id": "Pxr_SxPwk5Uy",
        "outputId": "93bd7383-5cb0-4331-bb3f-6216751f76c7"
      },
      "source": [
        "# Instantiate metrics object \n",
        "metricsMulti = MulticlassMetrics(predictionAndLabel)\n",
        "metricsBinary = BinaryClassificationMetrics(predictionAndLabel)"
      ],
      "execution_count": null,
      "outputs": [
        {
          "output_type": "display_data",
          "data": {
            "text/html": [
              "<style scoped>\n",
              "  .ansiout {\n",
              "    display: block;\n",
              "    unicode-bidi: embed;\n",
              "    white-space: pre-wrap;\n",
              "    word-wrap: break-word;\n",
              "    word-break: break-all;\n",
              "    font-family: \"Source Code Pro\", \"Menlo\", monospace;;\n",
              "    font-size: 13px;\n",
              "    color: #555;\n",
              "    margin-left: 4px;\n",
              "    line-height: 19px;\n",
              "  }\n",
              "</style>\n",
              "<div class=\"ansiout\"></div>"
            ]
          },
          "metadata": {
            "tags": [],
            "application/vnd.databricks.v1+output": {
              "addedWidgets": {},
              "arguments": {},
              "data": "<div class=\"ansiout\"></div>",
              "datasetInfos": [],
              "removedWidgets": [],
              "type": "html"
            }
          }
        }
      ]
    },
    {
      "cell_type": "code",
      "metadata": {
        "application/vnd.databricks.v1+cell": {
          "inputWidgets": {},
          "nuid": "bcddb91e-bf28-4f21-aba1-7a51a55b30bb",
          "showTitle": false,
          "title": ""
        },
        "id": "hPC0KABgk5Uy",
        "outputId": "4f976b2f-a1f8-4e0e-a232-f70e866617e8"
      },
      "source": [
        "# Overall statistics \n",
        "confusionMatrix = metricsMulti.confusionMatrix() # Confusion matrix is a performance measurement for machine learning classification problem where output can be two or more classes.\n",
        "\n",
        "# True Positive: Interpretation: You predicted positive and it’s true.\n",
        "# True Negative: Interpretation: You predicted negative and it’s true.\n",
        "# False Positive: (Type 1 Error): Interpretation: You predicted positive and it’s false.\n",
        "# False Negative: (Type 2 Error): Interpretation: You predicted negative and it’s false.\n",
        "\n",
        "# Recall = TP / (TP + FN) - Out of all the positive classes, how much we predicted correctly. It should be high as possible.\n",
        "# Precision = TP / (TP + FP) - Out of all the positive classes we have predicted correctly, how many are actually positive.\n",
        "# Accuracy = (TP + TN) / Total - Out of all the classes, how much we predicted correctly\n",
        "# F-measure = (2 * recall * Precision) / (recall + Precsion) - It is difficult to compare two models with low precision and high recall or vice versa. So to make them comparable, we use F-Score. F-score helps to measure Recall and Precision at the same time. It uses Harmonic Mean in place of Arithmetic Mean by punishing the extreme values more.\n",
        "\n",
        "precision = metricsMulti.precision(label=0) ## label = 0 defines the x direction and label = 1 defines the y direction \n",
        "recall = metricsMulti.recall(label=0) ## label = 0 defines the x direction and label = 1 defines the y direction \n",
        "\n",
        "# For binary classification we do not have attributes such as confusionMatrix, precision, recall, fMeasure\n",
        "# confusionMatrix = metricsBinary.confusionMatrix()\n",
        "# precision = metricsBinary.precision(label=1) \n",
        "# recall = metricsBinary.recall(label=1) \n",
        "# f1Score = metricsBinary.fMeasure()\n",
        "print(\"Summary Stats\")\n",
        "print(\"Confusion Matrix = \\n %s\" % confusionMatrix)\n",
        "print(\"Precision = %s\" % precision) \n",
        "print(\"Recall = %s\" % recall) \n",
        "\n",
        "# Summary Stats - When label = 1\n",
        "# Confusion Matrix = \n",
        "#  DenseMatrix([[977., 217.],\n",
        "#              [240., 817.]])\n",
        "# Precision = 0.7901353965183753\n",
        "# Recall = 0.7729422894985809\n",
        "\n",
        "# Summary Stats - When label = 0 \n",
        "# Confusion Matrix = \n",
        "#  DenseMatrix([[970., 224.],\n",
        "#              [205., 852.]])\n",
        "# Precision = 0.825531914893617\n",
        "# Recall = 0.8060548722800378"
      ],
      "execution_count": null,
      "outputs": [
        {
          "output_type": "display_data",
          "data": {
            "text/html": [
              "<style scoped>\n",
              "  .ansiout {\n",
              "    display: block;\n",
              "    unicode-bidi: embed;\n",
              "    white-space: pre-wrap;\n",
              "    word-wrap: break-word;\n",
              "    word-break: break-all;\n",
              "    font-family: \"Source Code Pro\", \"Menlo\", monospace;;\n",
              "    font-size: 13px;\n",
              "    color: #555;\n",
              "    margin-left: 4px;\n",
              "    line-height: 19px;\n",
              "  }\n",
              "</style>\n",
              "<div class=\"ansiout\">Summary Stats\n",
              "Confusion Matrix = \n",
              " DenseMatrix([[970., 224.],\n",
              "             [205., 852.]])\n",
              "Precision = 0.825531914893617\n",
              "Recall = 0.8060548722800378\n",
              "</div>"
            ]
          },
          "metadata": {
            "tags": [],
            "application/vnd.databricks.v1+output": {
              "addedWidgets": {},
              "arguments": {},
              "data": "<div class=\"ansiout\">Summary Stats\nConfusion Matrix = \n DenseMatrix([[970., 224.],\n             [205., 852.]])\nPrecision = 0.825531914893617\nRecall = 0.8060548722800378\n</div>",
              "datasetInfos": [],
              "removedWidgets": [],
              "type": "html"
            }
          }
        }
      ]
    },
    {
      "cell_type": "code",
      "metadata": {
        "application/vnd.databricks.v1+cell": {
          "inputWidgets": {},
          "nuid": "29a276bc-678e-438b-9499-d5adfbc9a4c2",
          "showTitle": false,
          "title": ""
        },
        "id": "iy0LMdSUk5Uz",
        "outputId": "ccd3fa98-931c-4aae-e066-aa930cf170c2"
      },
      "source": [
        "# For multiclass we do not have attributes such as areaUnderPR, areaUnderROC\n",
        "# Area under precision-recall curve - Precision-Recall is a useful measure of success of prediction when the classes are very imbalanced. In information retrieval, precision is a measure of result relevancy, while recall is a measure of how many truly relevant results are returned. \n",
        "# The precision-recall curve shows the tradeoff between precision and recall for different threshold. A high area under the curve represents both high recall and high precision, where high precision relates to a low false positive rate, and high recall relates to a low false negative rate. High scores for both show that the classifier is returning accurate results (high precision), as well as returning a majority of all positive results (high recall).\n",
        "# A system with high recall but low precision returns many results, but most of its predicted labels are incorrect when compared to the training labels. A system with high precision but low recall is just the opposite, returning very few results, but most of its predicted labels are correct when compared to the training labels. An ideal system with high precision and high recall will return many results, with all results labeled correctly.\n",
        "print(\"Area under PR = %s\" % metricsBinary.areaUnderPR) \n",
        "\n",
        "# Area under ROC curve \n",
        "# When we need to check or visualize the performance of the multi-class classification problem, we use the AUC (Area Under The Curve) ROC (Receiver Operating Characteristics) curve. ROC is a probability curve and AUC represents the degree or measure of separability. It tells how much the model is capable of distinguishing between classes. Higher the AUC, the better the model is at predicting 0s as 0s and 1s as 1s. \n",
        "# For more details - https://towardsdatascience.com/understanding-auc-roc-curve-68b2303cc9c5\n",
        "print(\"Area under ROC = %s\" % metricsBinary.areaUnderROC)"
      ],
      "execution_count": null,
      "outputs": [
        {
          "output_type": "display_data",
          "data": {
            "text/html": [
              "<style scoped>\n",
              "  .ansiout {\n",
              "    display: block;\n",
              "    unicode-bidi: embed;\n",
              "    white-space: pre-wrap;\n",
              "    word-wrap: break-word;\n",
              "    word-break: break-all;\n",
              "    font-family: \"Source Code Pro\", \"Menlo\", monospace;;\n",
              "    font-size: 13px;\n",
              "    color: #555;\n",
              "    margin-left: 4px;\n",
              "    line-height: 19px;\n",
              "  }\n",
              "</style>\n",
              "<div class=\"ansiout\">Area under PR = 0.7537418696185075\n",
              "Area under ROC = 0.795600122973746\n",
              "</div>"
            ]
          },
          "metadata": {
            "tags": [],
            "application/vnd.databricks.v1+output": {
              "addedWidgets": {},
              "arguments": {},
              "data": "<div class=\"ansiout\">Area under PR = 0.7537418696185075\nArea under ROC = 0.795600122973746\n</div>",
              "datasetInfos": [],
              "removedWidgets": [],
              "type": "html"
            }
          }
        }
      ]
    },
    {
      "cell_type": "code",
      "metadata": {
        "application/vnd.databricks.v1+cell": {
          "inputWidgets": {},
          "nuid": "2c9972c1-4f78-45c9-a40d-6163cddece0b",
          "showTitle": false,
          "title": ""
        },
        "id": "_rojhIqGk5Uz",
        "outputId": "fbb392fd-0685-4b61-f6c3-276a0a39b2e0"
      },
      "source": [
        "# Compute the area under ROC metric\n",
        "evaluator = BinaryClassificationEvaluator(rawPredictionCol=\"prediction\",labelCol=\"indexedLabel\")\n",
        "print(\"The area under ROC for test set is {}\".format(evaluator.evaluate(predictions)))"
      ],
      "execution_count": null,
      "outputs": [
        {
          "output_type": "display_data",
          "data": {
            "text/html": [
              "<style scoped>\n",
              "  .ansiout {\n",
              "    display: block;\n",
              "    unicode-bidi: embed;\n",
              "    white-space: pre-wrap;\n",
              "    word-wrap: break-word;\n",
              "    word-break: break-all;\n",
              "    font-family: \"Source Code Pro\", \"Menlo\", monospace;;\n",
              "    font-size: 13px;\n",
              "    color: #555;\n",
              "    margin-left: 4px;\n",
              "    line-height: 19px;\n",
              "  }\n",
              "</style>\n",
              "<div class=\"ansiout\">The area under ROC for test set is 0.795600122973746\n",
              "</div>"
            ]
          },
          "metadata": {
            "tags": [],
            "application/vnd.databricks.v1+output": {
              "addedWidgets": {},
              "arguments": {},
              "data": "<div class=\"ansiout\">The area under ROC for test set is 0.795600122973746\n</div>",
              "datasetInfos": [],
              "removedWidgets": [],
              "type": "html"
            }
          }
        }
      ]
    },
    {
      "cell_type": "code",
      "metadata": {
        "application/vnd.databricks.v1+cell": {
          "inputWidgets": {},
          "nuid": "0e176e9f-5b4f-4e6e-8799-94c07fd70b6d",
          "showTitle": false,
          "title": ""
        },
        "id": "4DYUaylKk5U0",
        "outputId": "02a1d2a9-8b01-454d-fca9-7787e1800a92"
      },
      "source": [
        "# Suppose to print the parameters\n",
        "print(lr.explainParams())"
      ],
      "execution_count": null,
      "outputs": [
        {
          "output_type": "display_data",
          "data": {
            "text/html": [
              "<style scoped>\n",
              "  .ansiout {\n",
              "    display: block;\n",
              "    unicode-bidi: embed;\n",
              "    white-space: pre-wrap;\n",
              "    word-wrap: break-word;\n",
              "    word-break: break-all;\n",
              "    font-family: \"Source Code Pro\", \"Menlo\", monospace;;\n",
              "    font-size: 13px;\n",
              "    color: #555;\n",
              "    margin-left: 4px;\n",
              "    line-height: 19px;\n",
              "  }\n",
              "</style>\n",
              "<div class=\"ansiout\">aggregationDepth: suggested depth for treeAggregate (&gt;= 2). (default: 2)\n",
              "elasticNetParam: the ElasticNet mixing parameter, in range [0, 1]. For alpha = 0, the penalty is an L2 penalty. For alpha = 1, it is an L1 penalty. (default: 0.0)\n",
              "family: The name of family which is a description of the label distribution to be used in the model. Supported options: auto, binomial, multinomial (default: auto)\n",
              "featuresCol: features column name. (default: features, current: features)\n",
              "fitIntercept: whether to fit an intercept term. (default: True)\n",
              "labelCol: label column name. (default: label, current: indexedLabel)\n",
              "lowerBoundsOnCoefficients: The lower bounds on coefficients if fitting under bound constrained optimization. The bound matrix must be compatible with the shape (1, number of features) for binomial regression, or (number of classes, number of features) for multinomial regression. (undefined)\n",
              "lowerBoundsOnIntercepts: The lower bounds on intercepts if fitting under bound constrained optimization. The bounds vector size must beequal with 1 for binomial regression, or the number oflasses for multinomial regression. (undefined)\n",
              "maxIter: max number of iterations (&gt;= 0). (default: 100)\n",
              "predictionCol: prediction column name. (default: prediction)\n",
              "probabilityCol: Column name for predicted class conditional probabilities. Note: Not all models output well-calibrated probability estimates! These probabilities should be treated as confidences, not precise probabilities. (default: probability)\n",
              "rawPredictionCol: raw prediction (a.k.a. confidence) column name. (default: rawPrediction)\n",
              "regParam: regularization parameter (&gt;= 0). (default: 0.0)\n",
              "standardization: whether to standardize the training features before fitting the model. (default: True)\n",
              "threshold: Threshold in binary classification prediction, in range [0, 1]. If threshold and thresholds are both set, they must match.e.g. if threshold is p, then thresholds must be equal to [1-p, p]. (default: 0.5)\n",
              "thresholds: Thresholds in multi-class classification to adjust the probability of predicting each class. Array must have length equal to the number of classes, with values &gt; 0, excepting that at most one value may be 0. The class with largest value p/t is predicted, where p is the original probability of that class and t is the class&#39;s threshold. (undefined)\n",
              "tol: the convergence tolerance for iterative algorithms (&gt;= 0). (default: 1e-06)\n",
              "upperBoundsOnCoefficients: The upper bounds on coefficients if fitting under bound constrained optimization. The bound matrix must be compatible with the shape (1, number of features) for binomial regression, or (number of classes, number of features) for multinomial regression. (undefined)\n",
              "upperBoundsOnIntercepts: The upper bounds on intercepts if fitting under bound constrained optimization. The bound vector size must be equal with 1 for binomial regression, or the number of classes for multinomial regression. (undefined)\n",
              "weightCol: weight column name. If this is not set or empty, we treat all instance weights as 1.0. (undefined)\n",
              "</div>"
            ]
          },
          "metadata": {
            "tags": [],
            "application/vnd.databricks.v1+output": {
              "addedWidgets": {},
              "arguments": {},
              "data": "<div class=\"ansiout\">aggregationDepth: suggested depth for treeAggregate (&gt;= 2). (default: 2)\nelasticNetParam: the ElasticNet mixing parameter, in range [0, 1]. For alpha = 0, the penalty is an L2 penalty. For alpha = 1, it is an L1 penalty. (default: 0.0)\nfamily: The name of family which is a description of the label distribution to be used in the model. Supported options: auto, binomial, multinomial (default: auto)\nfeaturesCol: features column name. (default: features, current: features)\nfitIntercept: whether to fit an intercept term. (default: True)\nlabelCol: label column name. (default: label, current: indexedLabel)\nlowerBoundsOnCoefficients: The lower bounds on coefficients if fitting under bound constrained optimization. The bound matrix must be compatible with the shape (1, number of features) for binomial regression, or (number of classes, number of features) for multinomial regression. (undefined)\nlowerBoundsOnIntercepts: The lower bounds on intercepts if fitting under bound constrained optimization. The bounds vector size must beequal with 1 for binomial regression, or the number oflasses for multinomial regression. (undefined)\nmaxIter: max number of iterations (&gt;= 0). (default: 100)\npredictionCol: prediction column name. (default: prediction)\nprobabilityCol: Column name for predicted class conditional probabilities. Note: Not all models output well-calibrated probability estimates! These probabilities should be treated as confidences, not precise probabilities. (default: probability)\nrawPredictionCol: raw prediction (a.k.a. confidence) column name. (default: rawPrediction)\nregParam: regularization parameter (&gt;= 0). (default: 0.0)\nstandardization: whether to standardize the training features before fitting the model. (default: True)\nthreshold: Threshold in binary classification prediction, in range [0, 1]. If threshold and thresholds are both set, they must match.e.g. if threshold is p, then thresholds must be equal to [1-p, p]. (default: 0.5)\nthresholds: Thresholds in multi-class classification to adjust the probability of predicting each class. Array must have length equal to the number of classes, with values &gt; 0, excepting that at most one value may be 0. The class with largest value p/t is predicted, where p is the original probability of that class and t is the class&#39;s threshold. (undefined)\ntol: the convergence tolerance for iterative algorithms (&gt;= 0). (default: 1e-06)\nupperBoundsOnCoefficients: The upper bounds on coefficients if fitting under bound constrained optimization. The bound matrix must be compatible with the shape (1, number of features) for binomial regression, or (number of classes, number of features) for multinomial regression. (undefined)\nupperBoundsOnIntercepts: The upper bounds on intercepts if fitting under bound constrained optimization. The bound vector size must be equal with 1 for binomial regression, or the number of classes for multinomial regression. (undefined)\nweightCol: weight column name. If this is not set or empty, we treat all instance weights as 1.0. (undefined)\n</div>",
              "datasetInfos": [],
              "removedWidgets": [],
              "type": "html"
            }
          }
        }
      ]
    },
    {
      "cell_type": "code",
      "metadata": {
        "application/vnd.databricks.v1+cell": {
          "inputWidgets": {},
          "nuid": "39fc193b-99e9-4124-a9bb-31990c49c13b",
          "showTitle": false,
          "title": ""
        },
        "id": "mAbcBEfak5U0",
        "outputId": "1cfc4533-0b19-4511-8b2b-32b6f42e7ec4"
      },
      "source": [
        "# ParamGridBuilder to construct a grid of parameters to search over.\n",
        "# Performing the grid methods in which passing the regularization parameter (regParam), elasticNetParam, maxIter\n",
        "paramGrid = (ParamGridBuilder()\n",
        "             .addGrid(lr.regParam, [0.01, 0.5, 2.0])\n",
        "             .addGrid(lr.elasticNetParam, [0.0, 0.5, 1.0])\n",
        "             .addGrid(lr.maxIter, [1, 5, 10])\n",
        "             .build())\n",
        "\n",
        "evaluator = BinaryClassificationEvaluator(rawPredictionCol=\"prediction\",labelCol=\"indexedLabel\")"
      ],
      "execution_count": null,
      "outputs": [
        {
          "output_type": "display_data",
          "data": {
            "text/html": [
              "<style scoped>\n",
              "  .ansiout {\n",
              "    display: block;\n",
              "    unicode-bidi: embed;\n",
              "    white-space: pre-wrap;\n",
              "    word-wrap: break-word;\n",
              "    word-break: break-all;\n",
              "    font-family: \"Source Code Pro\", \"Menlo\", monospace;;\n",
              "    font-size: 13px;\n",
              "    color: #555;\n",
              "    margin-left: 4px;\n",
              "    line-height: 19px;\n",
              "  }\n",
              "</style>\n",
              "<div class=\"ansiout\"></div>"
            ]
          },
          "metadata": {
            "tags": [],
            "application/vnd.databricks.v1+output": {
              "addedWidgets": {},
              "arguments": {},
              "data": "<div class=\"ansiout\"></div>",
              "datasetInfos": [],
              "removedWidgets": [],
              "type": "html"
            }
          }
        }
      ]
    },
    {
      "cell_type": "code",
      "metadata": {
        "application/vnd.databricks.v1+cell": {
          "inputWidgets": {},
          "nuid": "ea7c5868-f0ba-470e-a706-b75df1424c3b",
          "showTitle": false,
          "title": ""
        },
        "id": "dBZKcHrvk5U0",
        "outputId": "bdcaf2f1-9559-44da-a276-14f723375cc7"
      },
      "source": [
        "# https://towardsdatascience.com/cross-validation-and-hyperparameter-tuning-how-to-optimise-your-machine-learning-model-13f005af9d7d\n",
        "\n",
        "pipeline = Pipeline(stages=[featureIndexer, lr, label_converter])\n",
        "\n",
        "# A CrossValidator requires an Estimator for which we have define the pipeline, a set of Estimator ParamMaps, an Evaluator which is binaryClassification in this case, Then defining the k-folds i.e 5 in this case, then parallelism of 10 is set, \n",
        "# About K-FOLD - In K-fold Cross-Validation (CV) we still start off by separating a test/hold-out set from the remaining data in the data set to use for the final evaluation of our models. The data that is remaining, i.e. everything apart from the test set, is split into K number of folds (subsets). The Cross-Validation then iterates through the folds and at each iteration uses one of the K folds as the validation set while using all remaining folds as the training set. This process is repeated until every fold has been used as a validation set. By training and testing the model K number of times on different subsets of the same training data we get a more accurate representation of how well our model might perform on data it has not seen before. In a K-fold CV we score the model after every iteration and compute the average of all scores to get a better representation of how the model performs compared to only using one training and validation set. \n",
        "# Parallelism - Parameter evaluation can be done in parallel by setting parallelism with a value of 2 or more (a value of 1 will be serial) before running model selection with CrossValidator or TrainValidationSplit. The value of parallelism should be chosen carefully to maximize parallelism without exceeding cluster resources, and larger values may not always lead to improved performance. Generally speaking, a value up to 10 should be sufficient for most clusters.\n",
        "# seed -  Seed value is for random number generator. Seed function is used to save the state of a random function, so that it can generate same random numbers on multiple executions of the code on the same machine. \n",
        "\n",
        "cv = CrossValidator(estimator=pipeline, estimatorParamMaps=paramGrid, evaluator=evaluator, numFolds=5, parallelism=10, seed=100)\n",
        "cvModel = cv.fit(training_data) # fitting it to the training data. "
      ],
      "execution_count": null,
      "outputs": [
        {
          "output_type": "display_data",
          "data": {
            "text/html": [
              "<style scoped>\n",
              "  .ansiout {\n",
              "    display: block;\n",
              "    unicode-bidi: embed;\n",
              "    white-space: pre-wrap;\n",
              "    word-wrap: break-word;\n",
              "    word-break: break-all;\n",
              "    font-family: \"Source Code Pro\", \"Menlo\", monospace;;\n",
              "    font-size: 13px;\n",
              "    color: #555;\n",
              "    margin-left: 4px;\n",
              "    line-height: 19px;\n",
              "  }\n",
              "</style>\n",
              "<div class=\"ansiout\">/databricks/spark/python/pyspark/ml/util.py:762: UserWarning: Cannot find mlflow module. To enable MLflow logging, install mlflow from PyPI.\n",
              "  warnings.warn(_MLflowInstrumentation._NO_MLFLOW_WARNING)\n",
              "</div>"
            ]
          },
          "metadata": {
            "tags": [],
            "application/vnd.databricks.v1+output": {
              "addedWidgets": {},
              "arguments": {},
              "data": "<div class=\"ansiout\">/databricks/spark/python/pyspark/ml/util.py:762: UserWarning: Cannot find mlflow module. To enable MLflow logging, install mlflow from PyPI.\n  warnings.warn(_MLflowInstrumentation._NO_MLFLOW_WARNING)\n</div>",
              "datasetInfos": [],
              "removedWidgets": [],
              "type": "html"
            }
          }
        }
      ]
    },
    {
      "cell_type": "code",
      "metadata": {
        "application/vnd.databricks.v1+cell": {
          "inputWidgets": {},
          "nuid": "1aef6b40-12be-4237-b69f-b8457369a004",
          "showTitle": false,
          "title": ""
        },
        "id": "QMVJ98jOk5U1",
        "outputId": "ceb40247-612c-45f0-fd3e-2df3f1e4282a"
      },
      "source": [
        "predictions = cvModel.transform(test_data)\n",
        "predictions.select(\"features\", \"label\", \"probability\", \"predictionLabel\").show(5)"
      ],
      "execution_count": null,
      "outputs": [
        {
          "output_type": "display_data",
          "data": {
            "text/html": [
              "<style scoped>\n",
              "  .ansiout {\n",
              "    display: block;\n",
              "    unicode-bidi: embed;\n",
              "    white-space: pre-wrap;\n",
              "    word-wrap: break-word;\n",
              "    word-break: break-all;\n",
              "    font-family: \"Source Code Pro\", \"Menlo\", monospace;;\n",
              "    font-size: 13px;\n",
              "    color: #555;\n",
              "    margin-left: 4px;\n",
              "    line-height: 19px;\n",
              "  }\n",
              "</style>\n",
              "<div class=\"ansiout\">+--------------------+-----+--------------------+---------------+\n",
              "            features|label|         probability|predictionLabel|\n",
              "+--------------------+-----+--------------------+---------------+\n",
              "(30,[0,11,13,16,1...|  yes|[0.31928546458780...|            yes|\n",
              "(30,[0,11,13,16,1...|  yes|[0.70428395110976...|             no|\n",
              "(30,[0,11,13,16,1...|   no|[0.84077594373546...|             no|\n",
              "(30,[0,11,13,16,1...|  yes|[0.12963373679820...|            yes|\n",
              "(30,[0,11,13,16,1...|  yes|[0.41187134078225...|            yes|\n",
              "+--------------------+-----+--------------------+---------------+\n",
              "only showing top 5 rows\n",
              "\n",
              "</div>"
            ]
          },
          "metadata": {
            "tags": [],
            "application/vnd.databricks.v1+output": {
              "addedWidgets": {},
              "arguments": {},
              "data": "<div class=\"ansiout\">+--------------------+-----+--------------------+---------------+\n|            features|label|         probability|predictionLabel|\n+--------------------+-----+--------------------+---------------+\n|(30,[0,11,13,16,1...|  yes|[0.31928546458780...|            yes|\n|(30,[0,11,13,16,1...|  yes|[0.70428395110976...|             no|\n|(30,[0,11,13,16,1...|   no|[0.84077594373546...|             no|\n|(30,[0,11,13,16,1...|  yes|[0.12963373679820...|            yes|\n|(30,[0,11,13,16,1...|  yes|[0.41187134078225...|            yes|\n+--------------------+-----+--------------------+---------------+\nonly showing top 5 rows\n\n</div>",
              "datasetInfos": [],
              "removedWidgets": [],
              "type": "html"
            }
          }
        }
      ]
    },
    {
      "cell_type": "code",
      "metadata": {
        "application/vnd.databricks.v1+cell": {
          "inputWidgets": {},
          "nuid": "45356dcf-1553-449b-b271-b96f398807e7",
          "showTitle": false,
          "title": ""
        },
        "id": "RTMXa3L9k5U1",
        "outputId": "9ad9980d-4559-42fd-900d-1a5e9e67b242"
      },
      "source": [
        "# comparing the indexedLabel column and prediction column using MulticlassClassificationEvaluator by setting accuracy as the condition to check. \n",
        "evaluator = MulticlassClassificationEvaluator(labelCol=\"indexedLabel\", predictionCol=\"prediction\", metricName=\"accuracy\")\n",
        "print(\"The Accuracy for test set is {}\".format(evaluator.evaluate(predictions))) # Evaluated on the cvModel "
      ],
      "execution_count": null,
      "outputs": [
        {
          "output_type": "display_data",
          "data": {
            "text/html": [
              "<style scoped>\n",
              "  .ansiout {\n",
              "    display: block;\n",
              "    unicode-bidi: embed;\n",
              "    white-space: pre-wrap;\n",
              "    word-wrap: break-word;\n",
              "    word-break: break-all;\n",
              "    font-family: \"Source Code Pro\", \"Menlo\", monospace;;\n",
              "    font-size: 13px;\n",
              "    color: #555;\n",
              "    margin-left: 4px;\n",
              "    line-height: 19px;\n",
              "  }\n",
              "</style>\n",
              "<div class=\"ansiout\">The Accuracy for test set is 0.7978676143936029\n",
              "</div>"
            ]
          },
          "metadata": {
            "tags": [],
            "application/vnd.databricks.v1+output": {
              "addedWidgets": {},
              "arguments": {},
              "data": "<div class=\"ansiout\">The Accuracy for test set is 0.7978676143936029\n</div>",
              "datasetInfos": [],
              "removedWidgets": [],
              "type": "html"
            }
          }
        }
      ]
    },
    {
      "cell_type": "code",
      "metadata": {
        "application/vnd.databricks.v1+cell": {
          "inputWidgets": {},
          "nuid": "1efb3be3-947e-4aca-8410-207151931b82",
          "showTitle": false,
          "title": ""
        },
        "id": "51cvqwKQk5U1",
        "outputId": "f7fdf9cf-3eb5-4a2e-b853-6660706b9268"
      },
      "source": [
        "# Overall statistics \n",
        "confusionMatrix = metricsMulti.confusionMatrix()\n",
        "precision = metricsMulti.precision(label=1) \n",
        "recall = metricsMulti.recall(label=1) \n",
        "\n",
        "# For binary classification we do not have attributes such as confusionMatrix, precision, recall, fMeasure\n",
        "# confusionMatrix = metricsBinary.confusionMatrix()\n",
        "# precision = metricsBinary.precision(label=1) \n",
        "# recall = metricsBinary.recall(label=1) \n",
        "# f1Score = metricsBinary.fMeasure()\n",
        "print(\"Summary Stats\")\n",
        "print(\"Confusion Matrix = \\n %s\" % confusionMatrix)\n",
        "print(\"Precision = %s\" % precision) \n",
        "print(\"Recall = %s\" % recall) "
      ],
      "execution_count": null,
      "outputs": [
        {
          "output_type": "display_data",
          "data": {
            "text/html": [
              "<style scoped>\n",
              "  .ansiout {\n",
              "    display: block;\n",
              "    unicode-bidi: embed;\n",
              "    white-space: pre-wrap;\n",
              "    word-wrap: break-word;\n",
              "    word-break: break-all;\n",
              "    font-family: \"Source Code Pro\", \"Menlo\", monospace;;\n",
              "    font-size: 13px;\n",
              "    color: #555;\n",
              "    margin-left: 4px;\n",
              "    line-height: 19px;\n",
              "  }\n",
              "</style>\n",
              "<div class=\"ansiout\">Summary Stats\n",
              "Confusion Matrix = \n",
              " DenseMatrix([[977., 217.],\n",
              "             [240., 817.]])\n",
              "Precision = 0.7901353965183753\n",
              "Recall = 0.7729422894985809\n",
              "</div>"
            ]
          },
          "metadata": {
            "tags": [],
            "application/vnd.databricks.v1+output": {
              "addedWidgets": {},
              "arguments": {},
              "data": "<div class=\"ansiout\">Summary Stats\nConfusion Matrix = \n DenseMatrix([[977., 217.],\n             [240., 817.]])\nPrecision = 0.7901353965183753\nRecall = 0.7729422894985809\n</div>",
              "datasetInfos": [],
              "removedWidgets": [],
              "type": "html"
            }
          }
        }
      ]
    },
    {
      "cell_type": "code",
      "metadata": {
        "application/vnd.databricks.v1+cell": {
          "inputWidgets": {},
          "nuid": "5939e205-3f97-4669-a1cb-75c3568d34fb",
          "showTitle": false,
          "title": ""
        },
        "id": "-BQAdsFYk5U2",
        "outputId": "9d134b0a-ad83-456f-c79d-e59f3f3c3c4f"
      },
      "source": [
        "evaluator = BinaryClassificationEvaluator(rawPredictionCol=\"prediction\",labelCol=\"indexedLabel\")\n",
        "print(\"The area under ROC for test set is {}\".format(evaluator.evaluate(predictions)))"
      ],
      "execution_count": null,
      "outputs": [
        {
          "output_type": "display_data",
          "data": {
            "text/html": [
              "<style scoped>\n",
              "  .ansiout {\n",
              "    display: block;\n",
              "    unicode-bidi: embed;\n",
              "    white-space: pre-wrap;\n",
              "    word-wrap: break-word;\n",
              "    word-break: break-all;\n",
              "    font-family: \"Source Code Pro\", \"Menlo\", monospace;;\n",
              "    font-size: 13px;\n",
              "    color: #555;\n",
              "    margin-left: 4px;\n",
              "    line-height: 19px;\n",
              "  }\n",
              "</style>\n",
              "<div class=\"ansiout\">The area under ROC for test set is 0.796329091056037\n",
              "</div>"
            ]
          },
          "metadata": {
            "tags": [],
            "application/vnd.databricks.v1+output": {
              "addedWidgets": {},
              "arguments": {},
              "data": "<div class=\"ansiout\">The area under ROC for test set is 0.796329091056037\n</div>",
              "datasetInfos": [],
              "removedWidgets": [],
              "type": "html"
            }
          }
        }
      ]
    },
    {
      "cell_type": "code",
      "metadata": {
        "application/vnd.databricks.v1+cell": {
          "inputWidgets": {},
          "nuid": "8154a509-a86d-47f8-a982-def5a452f0e3",
          "showTitle": false,
          "title": ""
        },
        "id": "kUTVU89nk5U2",
        "outputId": "5894a39b-b446-4dd9-8cb9-c9b5c9fd297a"
      },
      "source": [
        "# Decision Tree - It is a Supervised learning technique that can be used for both classification and Regression problems, but mostly it is preferred for solving Classification problems. In a Decision tree, there are two nodes, which are the Decision Node and Leaf Node. Decision nodes are used to make any decision and have multiple branches, whereas Leaf nodes are the output of those decisions and do not contain any further branches. It is a graphical representation for getting all the possible solutions to a problem/decision based on given conditions. In order to build a tree, we use the CART algorithm, which stands for Classification and Regression Tree algorithm. A decision tree simply asks a question, and based on the answer (Yes/No), it further split the tree into subtrees.\n",
        "# Eg : Suppose there is a candidate who has a job offer and wants to decide whether he should accept the offer or Not. So, to solve this problem, the decision tree starts with the root node (Salary attribute by ASM). The root node splits further into the next decision node (distance from the office) and one leaf node based on the corresponding labels. The next decision node further gets split into one decision node (Cab facility) and one leaf node. Finally, the decision node splits into two leaf nodes (Accepted offers and Declined offer). \n",
        "# For more details refer - https://www.javatpoint.com/machine-learning-decision-tree-classification-algorithm\n",
        "# Create initial Decision Tree Model\n",
        "dt = DecisionTreeClassifier(labelCol=\"indexedLabel\", featuresCol=\"features\")\n",
        "\n",
        "# Train model with Training Data.\n",
        "dtModel = dt.fit(training_data)"
      ],
      "execution_count": null,
      "outputs": [
        {
          "output_type": "display_data",
          "data": {
            "text/html": [
              "<style scoped>\n",
              "  .ansiout {\n",
              "    display: block;\n",
              "    unicode-bidi: embed;\n",
              "    white-space: pre-wrap;\n",
              "    word-wrap: break-word;\n",
              "    word-break: break-all;\n",
              "    font-family: \"Source Code Pro\", \"Menlo\", monospace;;\n",
              "    font-size: 13px;\n",
              "    color: #555;\n",
              "    margin-left: 4px;\n",
              "    line-height: 19px;\n",
              "  }\n",
              "</style>\n",
              "<div class=\"ansiout\"></div>"
            ]
          },
          "metadata": {
            "tags": [],
            "application/vnd.databricks.v1+output": {
              "addedWidgets": {},
              "arguments": {},
              "data": "<div class=\"ansiout\"></div>",
              "datasetInfos": [],
              "removedWidgets": [],
              "type": "html"
            }
          }
        }
      ]
    },
    {
      "cell_type": "code",
      "metadata": {
        "application/vnd.databricks.v1+cell": {
          "inputWidgets": {},
          "nuid": "da3e0553-ec9e-4126-a1b6-fb342bebc58e",
          "showTitle": false,
          "title": ""
        },
        "id": "UpkpRkDik5U2",
        "outputId": "3d3c0018-9f4d-49e7-96af-62286e830e31"
      },
      "source": [
        "# Make predictions on test data.\n",
        "predictions = dtModel.transform(test_data)\n",
        "# Evaluate the model by computing the metrics. - Comparing the indexedLabel column and prediction column using MulticlassClassificationEvaluator by setting accuracy as the condition to check. \n",
        "evaluator = MulticlassClassificationEvaluator(labelCol=\"indexedLabel\", predictionCol=\"prediction\", metricName=\"accuracy\")\n",
        "print(\"The Accuracy for test set is {}\".format(evaluator.evaluate(predictions)))"
      ],
      "execution_count": null,
      "outputs": [
        {
          "output_type": "display_data",
          "data": {
            "text/html": [
              "<style scoped>\n",
              "  .ansiout {\n",
              "    display: block;\n",
              "    unicode-bidi: embed;\n",
              "    white-space: pre-wrap;\n",
              "    word-wrap: break-word;\n",
              "    word-break: break-all;\n",
              "    font-family: \"Source Code Pro\", \"Menlo\", monospace;;\n",
              "    font-size: 13px;\n",
              "    color: #555;\n",
              "    margin-left: 4px;\n",
              "    line-height: 19px;\n",
              "  }\n",
              "</style>\n",
              "<div class=\"ansiout\">The Accuracy for test set is 0.7854286983562861\n",
              "</div>"
            ]
          },
          "metadata": {
            "tags": [],
            "application/vnd.databricks.v1+output": {
              "addedWidgets": {},
              "arguments": {},
              "data": "<div class=\"ansiout\">The Accuracy for test set is 0.7854286983562861\n</div>",
              "datasetInfos": [],
              "removedWidgets": [],
              "type": "html"
            }
          }
        }
      ]
    },
    {
      "cell_type": "code",
      "metadata": {
        "application/vnd.databricks.v1+cell": {
          "inputWidgets": {},
          "nuid": "b490e7d0-4e53-4622-9e3a-d16c8258c621",
          "showTitle": false,
          "title": ""
        },
        "id": "k_3lK6Ppk5U3",
        "outputId": "dc06534c-c15b-45f9-ce36-3fdcfa499fe0"
      },
      "source": [
        "predictionAndLabel = predictions.select(\"prediction\", \"indexedLabel\").rdd # Use of RDD principles to compute some other metrics - RDD - Resilient Distributed Datasets\n",
        "\n",
        "# Instantiate metrics object \n",
        "metricsMulti = MulticlassMetrics(predictionAndLabel)\n",
        "metricsBinary= BinaryClassificationMetrics(predictionAndLabel)\n",
        "# Overall statistics \n",
        "confusionMatrix = metricsMulti.confusionMatrix()\n",
        "precision = metricsMulti.precision(label=1) \n",
        "recall = metricsMulti.recall(label=1) \n",
        "print(\"Summary Stats\")\n",
        "print(\"Confusion Matrix = \\n %s\" % confusionMatrix)\n",
        "print(\"Precision = %s\" % precision) \n",
        "print(\"Recall = %s\" % recall) "
      ],
      "execution_count": null,
      "outputs": [
        {
          "output_type": "display_data",
          "data": {
            "text/html": [
              "<style scoped>\n",
              "  .ansiout {\n",
              "    display: block;\n",
              "    unicode-bidi: embed;\n",
              "    white-space: pre-wrap;\n",
              "    word-wrap: break-word;\n",
              "    word-break: break-all;\n",
              "    font-family: \"Source Code Pro\", \"Menlo\", monospace;;\n",
              "    font-size: 13px;\n",
              "    color: #555;\n",
              "    margin-left: 4px;\n",
              "    line-height: 19px;\n",
              "  }\n",
              "</style>\n",
              "<div class=\"ansiout\">Summary Stats\n",
              "Confusion Matrix = \n",
              " DenseMatrix([[935., 259.],\n",
              "             [224., 833.]])\n",
              "Precision = 0.7628205128205128\n",
              "Recall = 0.7880794701986755\n",
              "</div>"
            ]
          },
          "metadata": {
            "tags": [],
            "application/vnd.databricks.v1+output": {
              "addedWidgets": {},
              "arguments": {},
              "data": "<div class=\"ansiout\">Summary Stats\nConfusion Matrix = \n DenseMatrix([[935., 259.],\n             [224., 833.]])\nPrecision = 0.7628205128205128\nRecall = 0.7880794701986755\n</div>",
              "datasetInfos": [],
              "removedWidgets": [],
              "type": "html"
            }
          }
        }
      ]
    },
    {
      "cell_type": "code",
      "metadata": {
        "application/vnd.databricks.v1+cell": {
          "inputWidgets": {},
          "nuid": "b5be0442-abfa-49f3-99e8-c5d2f210b5d9",
          "showTitle": false,
          "title": ""
        },
        "id": "UMTiqFMUk5U3",
        "outputId": "0b7c57c0-8f9a-4751-8f88-871fd6b85a5c"
      },
      "source": [
        "# Area under precision-recall curve \n",
        "print(\"Area under PR = %s\" % metricsBinary.areaUnderPR) \n",
        "# Area under ROC curve \n",
        "print(\"Area under ROC = %s\" % metricsBinary.areaUnderROC)"
      ],
      "execution_count": null,
      "outputs": [
        {
          "output_type": "display_data",
          "data": {
            "text/html": [
              "<style scoped>\n",
              "  .ansiout {\n",
              "    display: block;\n",
              "    unicode-bidi: embed;\n",
              "    white-space: pre-wrap;\n",
              "    word-wrap: break-word;\n",
              "    word-break: break-all;\n",
              "    font-family: \"Source Code Pro\", \"Menlo\", monospace;;\n",
              "    font-size: 13px;\n",
              "    color: #555;\n",
              "    margin-left: 4px;\n",
              "    line-height: 19px;\n",
              "  }\n",
              "</style>\n",
              "<div class=\"ansiout\">Area under PR = 0.7317475133596593\n",
              "Area under ROC = 0.7855807736253009\n",
              "</div>"
            ]
          },
          "metadata": {
            "tags": [],
            "application/vnd.databricks.v1+output": {
              "addedWidgets": {},
              "arguments": {},
              "data": "<div class=\"ansiout\">Area under PR = 0.7317475133596593\nArea under ROC = 0.7855807736253009\n</div>",
              "datasetInfos": [],
              "removedWidgets": [],
              "type": "html"
            }
          }
        }
      ]
    },
    {
      "cell_type": "code",
      "metadata": {
        "application/vnd.databricks.v1+cell": {
          "inputWidgets": {},
          "nuid": "5a7b65be-f768-42da-9c1e-5f636988590e",
          "showTitle": false,
          "title": ""
        },
        "id": "tklH9Bikk5U3",
        "outputId": "0bd55e29-717f-4996-8588-6227ef945a8a"
      },
      "source": [
        "evaluator = BinaryClassificationEvaluator(rawPredictionCol=\"prediction\",labelCol=\"indexedLabel\")\n",
        "print(\"The area under ROC for test set is {}\".format(evaluator.evaluate(predictions)))"
      ],
      "execution_count": null,
      "outputs": [
        {
          "output_type": "display_data",
          "data": {
            "text/html": [
              "<style scoped>\n",
              "  .ansiout {\n",
              "    display: block;\n",
              "    unicode-bidi: embed;\n",
              "    white-space: pre-wrap;\n",
              "    word-wrap: break-word;\n",
              "    word-break: break-all;\n",
              "    font-family: \"Source Code Pro\", \"Menlo\", monospace;;\n",
              "    font-size: 13px;\n",
              "    color: #555;\n",
              "    margin-left: 4px;\n",
              "    line-height: 19px;\n",
              "  }\n",
              "</style>\n",
              "<div class=\"ansiout\">The area under ROC for test set is 0.7855807736253009\n",
              "</div>"
            ]
          },
          "metadata": {
            "tags": [],
            "application/vnd.databricks.v1+output": {
              "addedWidgets": {},
              "arguments": {},
              "data": "<div class=\"ansiout\">The area under ROC for test set is 0.7855807736253009\n</div>",
              "datasetInfos": [],
              "removedWidgets": [],
              "type": "html"
            }
          }
        }
      ]
    },
    {
      "cell_type": "code",
      "metadata": {
        "application/vnd.databricks.v1+cell": {
          "inputWidgets": {},
          "nuid": "cb443e9d-8d3c-4049-932f-3ba891db3ece",
          "showTitle": false,
          "title": ""
        },
        "id": "12wCdVlUk5U4",
        "outputId": "80748d05-fc71-4383-b642-adc591e4d391"
      },
      "source": [
        "# As we indicate 3 values for maxDepth and 3 values for maxBin, this grid will have 3 x 3 = 9 parameter settings for CrossValidator to choose from.\n",
        "# max_depth - It is what the name suggests: The maximum depth that you allow the tree to grow to. The deeper you allow, the more complex your model will become. If you increase max_depth, training error will always go down (or at least not go up). If you set max_depth too high, then the decision tree might simply overfit the training data without capturing useful patterns as we would like; this will cause testing error to increase. But if you set it too low, that is not good as well; then you might be giving the decision tree too little flexibility to capture the patterns and interactions in the training data. This will also cause the testing error to increase.\n",
        "# Discretisation approaches - There are several approaches to transform continuous variables into discrete ones. This process is also known as BINNIG, with each bin being each interval. Discretization methods fall into 2 categories: supervised and unsupervised.\n",
        "# maxBins - Number of bins used when discretizing continuous features. Increasing maxBins allows the algorithm to consider more split candidates and make fine-grained split decisions. However, it also increases computation and communication. Note that the maxBins parameter must be at least the maximum number of categories M for any categorical feature.\n",
        "\n",
        "paramGrid = (ParamGridBuilder()\n",
        "             .addGrid(dt.maxDepth, [1, 2, 6, 10]) \n",
        "             .addGrid(dt.maxBins, [20, 40, 80]) \n",
        "             .build())\n",
        "\n",
        "evaluator = BinaryClassificationEvaluator(rawPredictionCol=\"prediction\",labelCol=\"indexedLabel\")"
      ],
      "execution_count": null,
      "outputs": [
        {
          "output_type": "display_data",
          "data": {
            "text/html": [
              "<style scoped>\n",
              "  .ansiout {\n",
              "    display: block;\n",
              "    unicode-bidi: embed;\n",
              "    white-space: pre-wrap;\n",
              "    word-wrap: break-word;\n",
              "    word-break: break-all;\n",
              "    font-family: \"Source Code Pro\", \"Menlo\", monospace;;\n",
              "    font-size: 13px;\n",
              "    color: #555;\n",
              "    margin-left: 4px;\n",
              "    line-height: 19px;\n",
              "  }\n",
              "</style>\n",
              "<div class=\"ansiout\"></div>"
            ]
          },
          "metadata": {
            "tags": [],
            "application/vnd.databricks.v1+output": {
              "addedWidgets": {},
              "arguments": {},
              "data": "<div class=\"ansiout\"></div>",
              "datasetInfos": [],
              "removedWidgets": [],
              "type": "html"
            }
          }
        }
      ]
    },
    {
      "cell_type": "code",
      "metadata": {
        "application/vnd.databricks.v1+cell": {
          "inputWidgets": {},
          "nuid": "9893e3dc-418d-441c-a169-eb04bd961e01",
          "showTitle": false,
          "title": ""
        },
        "id": "QFTBVy30k5U4",
        "outputId": "8b0a037d-4aef-4daa-d99f-bf1eb6540ad2"
      },
      "source": [
        "pipeline = Pipeline(stages=[featureIndexer, dt, label_converter]) \n",
        "cv = CrossValidator(estimator=pipeline, estimatorParamMaps=paramGrid, evaluator=evaluator, numFolds=5, parallelism=10, seed=100)\n",
        "cvModel = cv.fit(training_data)"
      ],
      "execution_count": null,
      "outputs": [
        {
          "output_type": "display_data",
          "data": {
            "text/html": [
              "<style scoped>\n",
              "  .ansiout {\n",
              "    display: block;\n",
              "    unicode-bidi: embed;\n",
              "    white-space: pre-wrap;\n",
              "    word-wrap: break-word;\n",
              "    word-break: break-all;\n",
              "    font-family: \"Source Code Pro\", \"Menlo\", monospace;;\n",
              "    font-size: 13px;\n",
              "    color: #555;\n",
              "    margin-left: 4px;\n",
              "    line-height: 19px;\n",
              "  }\n",
              "</style>\n",
              "<div class=\"ansiout\"></div>"
            ]
          },
          "metadata": {
            "tags": [],
            "application/vnd.databricks.v1+output": {
              "addedWidgets": {},
              "arguments": {},
              "data": "<div class=\"ansiout\"></div>",
              "datasetInfos": [],
              "removedWidgets": [],
              "type": "html"
            }
          }
        }
      ]
    },
    {
      "cell_type": "code",
      "metadata": {
        "application/vnd.databricks.v1+cell": {
          "inputWidgets": {},
          "nuid": "0ba1ffc1-d90c-40d6-9625-ff7a7d78eb12",
          "showTitle": false,
          "title": ""
        },
        "id": "CkaeUtI-k5U4",
        "outputId": "98f85f5d-a84f-4baf-d184-436a8f4bf65d"
      },
      "source": [
        "predictions = cvModel.transform(test_data)\n",
        "evaluator = MulticlassClassificationEvaluator(labelCol=\"indexedLabel\", predictionCol=\"prediction\", metricName=\"accuracy\")\n",
        "print(\"The Accuracy for test set is {}\".format(evaluator.evaluate(predictions)))"
      ],
      "execution_count": null,
      "outputs": [
        {
          "output_type": "display_data",
          "data": {
            "text/html": [
              "<style scoped>\n",
              "  .ansiout {\n",
              "    display: block;\n",
              "    unicode-bidi: embed;\n",
              "    white-space: pre-wrap;\n",
              "    word-wrap: break-word;\n",
              "    word-break: break-all;\n",
              "    font-family: \"Source Code Pro\", \"Menlo\", monospace;;\n",
              "    font-size: 13px;\n",
              "    color: #555;\n",
              "    margin-left: 4px;\n",
              "    line-height: 19px;\n",
              "  }\n",
              "</style>\n",
              "<div class=\"ansiout\">The Accuracy for test set is 0.7987561083962683\n",
              "</div>"
            ]
          },
          "metadata": {
            "tags": [],
            "application/vnd.databricks.v1+output": {
              "addedWidgets": {},
              "arguments": {},
              "data": "<div class=\"ansiout\">The Accuracy for test set is 0.7987561083962683\n</div>",
              "datasetInfos": [],
              "removedWidgets": [],
              "type": "html"
            }
          }
        }
      ]
    },
    {
      "cell_type": "code",
      "metadata": {
        "application/vnd.databricks.v1+cell": {
          "inputWidgets": {},
          "nuid": "25b78a60-f0d9-464d-86bd-05b434fa502c",
          "showTitle": false,
          "title": ""
        },
        "id": "QH1F4Et6k5U5",
        "outputId": "38e5c209-a926-4093-cd12-8601ee4a3b97"
      },
      "source": [
        "predictionAndLabel = predictions.select(\"prediction\", \"indexedLabel\").rdd\n",
        "\n",
        "# Instantiate metrics object \n",
        "metricsMulti = MulticlassMetrics(predictionAndLabel)\n",
        "metricsBinary= BinaryClassificationMetrics(predictionAndLabel)\n",
        "# Overall statistics \n",
        "confusionMatrix = metricsMulti.confusionMatrix()\n",
        "precision = metricsMulti.precision(label=1) \n",
        "recall = metricsMulti.recall(label=1) \n",
        "print(\"Summary Stats\")\n",
        "print(\"Confusion Matrix = \\n %s\" % confusionMatrix)\n",
        "print(\"Precision = %s\" % precision) \n",
        "print(\"Recall = %s\" % recall) "
      ],
      "execution_count": null,
      "outputs": [
        {
          "output_type": "display_data",
          "data": {
            "text/html": [
              "<style scoped>\n",
              "  .ansiout {\n",
              "    display: block;\n",
              "    unicode-bidi: embed;\n",
              "    white-space: pre-wrap;\n",
              "    word-wrap: break-word;\n",
              "    word-break: break-all;\n",
              "    font-family: \"Source Code Pro\", \"Menlo\", monospace;;\n",
              "    font-size: 13px;\n",
              "    color: #555;\n",
              "    margin-left: 4px;\n",
              "    line-height: 19px;\n",
              "  }\n",
              "</style>\n",
              "<div class=\"ansiout\">Summary Stats\n",
              "Confusion Matrix = \n",
              " DenseMatrix([[979., 215.],\n",
              "             [238., 819.]])\n",
              "Precision = 0.7920696324951644\n",
              "Recall = 0.7748344370860927\n",
              "</div>"
            ]
          },
          "metadata": {
            "tags": [],
            "application/vnd.databricks.v1+output": {
              "addedWidgets": {},
              "arguments": {},
              "data": "<div class=\"ansiout\">Summary Stats\nConfusion Matrix = \n DenseMatrix([[979., 215.],\n             [238., 819.]])\nPrecision = 0.7920696324951644\nRecall = 0.7748344370860927\n</div>",
              "datasetInfos": [],
              "removedWidgets": [],
              "type": "html"
            }
          }
        }
      ]
    },
    {
      "cell_type": "code",
      "metadata": {
        "application/vnd.databricks.v1+cell": {
          "inputWidgets": {},
          "nuid": "3057fc49-006c-41e8-897e-753ce8c33204",
          "showTitle": false,
          "title": ""
        },
        "id": "rUxD3EpBk5U5",
        "outputId": "5fa650a4-fe80-41ca-82ef-c430b504abda"
      },
      "source": [
        "# Area under precision-recall curve \n",
        "print(\"Area under PR = %s\" % metricsBinary.areaUnderPR) \n",
        "# Area under ROC curve \n",
        "print(\"Area under ROC = %s\" % metricsBinary.areaUnderROC)"
      ],
      "execution_count": null,
      "outputs": [
        {
          "output_type": "display_data",
          "data": {
            "text/html": [
              "<style scoped>\n",
              "  .ansiout {\n",
              "    display: block;\n",
              "    unicode-bidi: embed;\n",
              "    white-space: pre-wrap;\n",
              "    word-wrap: break-word;\n",
              "    word-break: break-all;\n",
              "    font-family: \"Source Code Pro\", \"Menlo\", monospace;;\n",
              "    font-size: 13px;\n",
              "    color: #555;\n",
              "    margin-left: 4px;\n",
              "    line-height: 19px;\n",
              "  }\n",
              "</style>\n",
              "<div class=\"ansiout\">Area under PR = 0.7557616233198678\n",
              "Area under ROC = 0.7973837177055254\n",
              "</div>"
            ]
          },
          "metadata": {
            "tags": [],
            "application/vnd.databricks.v1+output": {
              "addedWidgets": {},
              "arguments": {},
              "data": "<div class=\"ansiout\">Area under PR = 0.7557616233198678\nArea under ROC = 0.7973837177055254\n</div>",
              "datasetInfos": [],
              "removedWidgets": [],
              "type": "html"
            }
          }
        }
      ]
    },
    {
      "cell_type": "code",
      "metadata": {
        "application/vnd.databricks.v1+cell": {
          "inputWidgets": {},
          "nuid": "c20d0981-c265-43ed-bc8a-d9a697970c6f",
          "showTitle": false,
          "title": ""
        },
        "id": "o7fj5vYrk5U5",
        "outputId": "ed41b9ad-2a40-48c8-840b-0c9d97f6704a"
      },
      "source": [
        "evaluator = BinaryClassificationEvaluator(rawPredictionCol=\"prediction\",labelCol=\"indexedLabel\")\n",
        "print(\"The area under ROC for test set is {}\".format(evaluator.evaluate(predictions)))"
      ],
      "execution_count": null,
      "outputs": [
        {
          "output_type": "display_data",
          "data": {
            "text/html": [
              "<style scoped>\n",
              "  .ansiout {\n",
              "    display: block;\n",
              "    unicode-bidi: embed;\n",
              "    white-space: pre-wrap;\n",
              "    word-wrap: break-word;\n",
              "    word-break: break-all;\n",
              "    font-family: \"Source Code Pro\", \"Menlo\", monospace;;\n",
              "    font-size: 13px;\n",
              "    color: #555;\n",
              "    margin-left: 4px;\n",
              "    line-height: 19px;\n",
              "  }\n",
              "</style>\n",
              "<div class=\"ansiout\">The area under ROC for test set is 0.7973837177055254\n",
              "</div>"
            ]
          },
          "metadata": {
            "tags": [],
            "application/vnd.databricks.v1+output": {
              "addedWidgets": {},
              "arguments": {},
              "data": "<div class=\"ansiout\">The area under ROC for test set is 0.7973837177055254\n</div>",
              "datasetInfos": [],
              "removedWidgets": [],
              "type": "html"
            }
          }
        }
      ]
    },
    {
      "cell_type": "code",
      "metadata": {
        "application/vnd.databricks.v1+cell": {
          "inputWidgets": {},
          "nuid": "9366ba7c-274e-4601-8375-36286e4c8bdb",
          "showTitle": false,
          "title": ""
        },
        "id": "h2J5dEFIk5U6",
        "outputId": "ff10c420-e163-4ee0-f9dd-d7f4a0393f28"
      },
      "source": [
        "# Create initial Random Forest Classifier\n",
        "# Random Forest is a popular machine learning algorithm that belongs to the supervised learning technique. It can be used for both Classification and Regression problems in ML. Random Forest is a classifier that contains a number of decision trees on various subsets of the given dataset and takes the average to improve the predictive accuracy of that dataset. Instead of relying on one decision tree, the random forest takes the prediction from each tree and based on the majority votes of predictions, and it predicts the final output. For more info - https://www.javatpoint.com/machine-learning-random-forest-algorithm\n",
        "# Explanation of why Random forest works - \n",
        "#  1) The low correlation between models is the key. Uncorrelated models can produce ensemble predictions that are more accurate than any of the individual predictions. The reason for this wonderful effect is that the trees protect each other from their individual errors. While some trees may be wrong, many other trees will be right, so as a group the trees are able to move in the correct direction. For more explantion for low correlation (very good and imp) refer to [An Example of Why Uncorrelated Outcomes are So Great] - https://towardsdatascience.com/understanding-random-forest-58381e0602d2\n",
        "#  2)Another key is - There needs to be some actual signal in our features so that models built using those features do better than random guessing.\n",
        "\n",
        "rf = RandomForestClassifier(labelCol=\"indexedLabel\", featuresCol=\"features\")\n",
        "\n",
        "# Train model with Training Data.\n",
        "rfModel = rf.fit(training_data)"
      ],
      "execution_count": null,
      "outputs": [
        {
          "output_type": "display_data",
          "data": {
            "text/html": [
              "<style scoped>\n",
              "  .ansiout {\n",
              "    display: block;\n",
              "    unicode-bidi: embed;\n",
              "    white-space: pre-wrap;\n",
              "    word-wrap: break-word;\n",
              "    word-break: break-all;\n",
              "    font-family: \"Source Code Pro\", \"Menlo\", monospace;;\n",
              "    font-size: 13px;\n",
              "    color: #555;\n",
              "    margin-left: 4px;\n",
              "    line-height: 19px;\n",
              "  }\n",
              "</style>\n",
              "<div class=\"ansiout\"></div>"
            ]
          },
          "metadata": {
            "tags": [],
            "application/vnd.databricks.v1+output": {
              "addedWidgets": {},
              "arguments": {},
              "data": "<div class=\"ansiout\"></div>",
              "datasetInfos": [],
              "removedWidgets": [],
              "type": "html"
            }
          }
        }
      ]
    },
    {
      "cell_type": "code",
      "metadata": {
        "application/vnd.databricks.v1+cell": {
          "inputWidgets": {},
          "nuid": "c20fb778-03a9-4023-aa82-139115ffbdaf",
          "showTitle": false,
          "title": ""
        },
        "id": "3RCqSvcgk5U6",
        "outputId": "a5844c74-9531-426d-e2de-e7ad1a1a1bf1"
      },
      "source": [
        "predictions = rfModel.transform(test_data)\n",
        "\n",
        "# Evaluate the model by computing the metrics. \n",
        "evaluator = MulticlassClassificationEvaluator(labelCol=\"indexedLabel\", predictionCol=\"prediction\", metricName=\"accuracy\")\n",
        "print(\"The Accuracy for test set is {}\".format(evaluator.evaluate(predictions)))"
      ],
      "execution_count": null,
      "outputs": [
        {
          "output_type": "display_data",
          "data": {
            "text/html": [
              "<style scoped>\n",
              "  .ansiout {\n",
              "    display: block;\n",
              "    unicode-bidi: embed;\n",
              "    white-space: pre-wrap;\n",
              "    word-wrap: break-word;\n",
              "    word-break: break-all;\n",
              "    font-family: \"Source Code Pro\", \"Menlo\", monospace;;\n",
              "    font-size: 13px;\n",
              "    color: #555;\n",
              "    margin-left: 4px;\n",
              "    line-height: 19px;\n",
              "  }\n",
              "</style>\n",
              "<div class=\"ansiout\">The Accuracy for test set is 0.8080852954242559\n",
              "</div>"
            ]
          },
          "metadata": {
            "tags": [],
            "application/vnd.databricks.v1+output": {
              "addedWidgets": {},
              "arguments": {},
              "data": "<div class=\"ansiout\">The Accuracy for test set is 0.8080852954242559\n</div>",
              "datasetInfos": [],
              "removedWidgets": [],
              "type": "html"
            }
          }
        }
      ]
    },
    {
      "cell_type": "code",
      "metadata": {
        "application/vnd.databricks.v1+cell": {
          "inputWidgets": {},
          "nuid": "f0d7849d-c721-47dd-9afb-8b7790d2ad36",
          "showTitle": false,
          "title": ""
        },
        "id": "YQM7sv4Nk5U6",
        "outputId": "ea8793cb-9e17-41ec-bbe9-88a681dd8e69"
      },
      "source": [
        "predictionAndLabel = predictions.select(\"prediction\", \"indexedLabel\").rdd # Use of RDD principles to compute some other metrics - RDD - Resilient Distributed Datasets\n",
        "\n",
        "# Instantiate metrics object \n",
        "metricsMulti = MulticlassMetrics(predictionAndLabel)\n",
        "metricsBinary= BinaryClassificationMetrics(predictionAndLabel)\n",
        "# Overall statistics \n",
        "confusionMatrix = metricsMulti.confusionMatrix()\n",
        "precision = metricsMulti.precision(label=1) \n",
        "recall = metricsMulti.recall(label=1) \n",
        "print(\"Summary Stats\")\n",
        "print(\"Confusion Matrix = \\n %s\" % confusionMatrix)\n",
        "print(\"Precision = %s\" % precision) \n",
        "print(\"Recall = %s\" % recall)  "
      ],
      "execution_count": null,
      "outputs": [
        {
          "output_type": "display_data",
          "data": {
            "text/html": [
              "<style scoped>\n",
              "  .ansiout {\n",
              "    display: block;\n",
              "    unicode-bidi: embed;\n",
              "    white-space: pre-wrap;\n",
              "    word-wrap: break-word;\n",
              "    word-break: break-all;\n",
              "    font-family: \"Source Code Pro\", \"Menlo\", monospace;;\n",
              "    font-size: 13px;\n",
              "    color: #555;\n",
              "    margin-left: 4px;\n",
              "    line-height: 19px;\n",
              "  }\n",
              "</style>\n",
              "<div class=\"ansiout\">Summary Stats\n",
              "Confusion Matrix = \n",
              " DenseMatrix([[971., 223.],\n",
              "             [209., 848.]])\n",
              "Precision = 0.7917833800186741\n",
              "Recall = 0.8022705771050141\n",
              "</div>"
            ]
          },
          "metadata": {
            "tags": [],
            "application/vnd.databricks.v1+output": {
              "addedWidgets": {},
              "arguments": {},
              "data": "<div class=\"ansiout\">Summary Stats\nConfusion Matrix = \n DenseMatrix([[971., 223.],\n             [209., 848.]])\nPrecision = 0.7917833800186741\nRecall = 0.8022705771050141\n</div>",
              "datasetInfos": [],
              "removedWidgets": [],
              "type": "html"
            }
          }
        }
      ]
    },
    {
      "cell_type": "code",
      "metadata": {
        "application/vnd.databricks.v1+cell": {
          "inputWidgets": {},
          "nuid": "9e94e001-28b2-4e47-adf1-ec7adb7ff132",
          "showTitle": false,
          "title": ""
        },
        "id": "eiEbvGb5k5U7",
        "outputId": "cec610d1-6186-4fa1-8235-7b3596b29c07"
      },
      "source": [
        "print(\"Area under PR = %s\" % metricsBinary.areaUnderPR) \n",
        "# Area under ROC curve \n",
        "print(\"Area under ROC = %s\" % metricsBinary.areaUnderROC)"
      ],
      "execution_count": null,
      "outputs": [
        {
          "output_type": "display_data",
          "data": {
            "text/html": [
              "<style scoped>\n",
              "  .ansiout {\n",
              "    display: block;\n",
              "    unicode-bidi: embed;\n",
              "    white-space: pre-wrap;\n",
              "    word-wrap: break-word;\n",
              "    word-break: break-all;\n",
              "    font-family: \"Source Code Pro\", \"Menlo\", monospace;;\n",
              "    font-size: 13px;\n",
              "    color: #555;\n",
              "    margin-left: 4px;\n",
              "    line-height: 19px;\n",
              "  }\n",
              "</style>\n",
              "<div class=\"ansiout\">Area under PR = 0.7599277562634786\n",
              "Area under ROC = 0.8077517039628923\n",
              "</div>"
            ]
          },
          "metadata": {
            "tags": [],
            "application/vnd.databricks.v1+output": {
              "addedWidgets": {},
              "arguments": {},
              "data": "<div class=\"ansiout\">Area under PR = 0.7599277562634786\nArea under ROC = 0.8077517039628923\n</div>",
              "datasetInfos": [],
              "removedWidgets": [],
              "type": "html"
            }
          }
        }
      ]
    },
    {
      "cell_type": "code",
      "metadata": {
        "application/vnd.databricks.v1+cell": {
          "inputWidgets": {},
          "nuid": "e2ba5496-dda5-4799-b75e-e2b15a1cfddf",
          "showTitle": false,
          "title": ""
        },
        "id": "m7LZjaFsk5U7",
        "outputId": "24fbf20d-5a4c-44ec-e981-c303b0cdfe87"
      },
      "source": [
        "evaluator = BinaryClassificationEvaluator(rawPredictionCol=\"prediction\",labelCol=\"indexedLabel\")\n",
        "print(\"The area under ROC for test set is {}\".format(evaluator.evaluate(predictions)))"
      ],
      "execution_count": null,
      "outputs": [
        {
          "output_type": "display_data",
          "data": {
            "text/html": [
              "<style scoped>\n",
              "  .ansiout {\n",
              "    display: block;\n",
              "    unicode-bidi: embed;\n",
              "    white-space: pre-wrap;\n",
              "    word-wrap: break-word;\n",
              "    word-break: break-all;\n",
              "    font-family: \"Source Code Pro\", \"Menlo\", monospace;;\n",
              "    font-size: 13px;\n",
              "    color: #555;\n",
              "    margin-left: 4px;\n",
              "    line-height: 19px;\n",
              "  }\n",
              "</style>\n",
              "<div class=\"ansiout\">The area under ROC for test set is 0.8077517039628923\n",
              "</div>"
            ]
          },
          "metadata": {
            "tags": [],
            "application/vnd.databricks.v1+output": {
              "addedWidgets": {},
              "arguments": {},
              "data": "<div class=\"ansiout\">The area under ROC for test set is 0.8077517039628923\n</div>",
              "datasetInfos": [],
              "removedWidgets": [],
              "type": "html"
            }
          }
        }
      ]
    },
    {
      "cell_type": "code",
      "metadata": {
        "application/vnd.databricks.v1+cell": {
          "inputWidgets": {},
          "nuid": "89d2ea8a-35e1-4d34-882c-a1dc84a12bad",
          "showTitle": false,
          "title": ""
        },
        "id": "1-oadQbpk5U7",
        "outputId": "941a3d35-ffd3-46cb-e0b2-a0251c1c4391"
      },
      "source": [
        "# numTrees - Total number of decision trees - The usual way is to perform a k-fold cross-validation for different number of trees (and any other combination of model's parameters) and choose the one with the best performance. \n",
        "paramGrid = (ParamGridBuilder()\n",
        "             .addGrid(rf.maxDepth, [2, 4, 6])\n",
        "             .addGrid(rf.maxBins, [20, 60])\n",
        "             .addGrid(rf.numTrees, [5, 20]) \n",
        "             .build())\n",
        "\n",
        "evaluator = BinaryClassificationEvaluator(rawPredictionCol=\"prediction\",labelCol=\"indexedLabel\")"
      ],
      "execution_count": null,
      "outputs": [
        {
          "output_type": "display_data",
          "data": {
            "text/html": [
              "<style scoped>\n",
              "  .ansiout {\n",
              "    display: block;\n",
              "    unicode-bidi: embed;\n",
              "    white-space: pre-wrap;\n",
              "    word-wrap: break-word;\n",
              "    word-break: break-all;\n",
              "    font-family: \"Source Code Pro\", \"Menlo\", monospace;;\n",
              "    font-size: 13px;\n",
              "    color: #555;\n",
              "    margin-left: 4px;\n",
              "    line-height: 19px;\n",
              "  }\n",
              "</style>\n",
              "<div class=\"ansiout\"></div>"
            ]
          },
          "metadata": {
            "tags": [],
            "application/vnd.databricks.v1+output": {
              "addedWidgets": {},
              "arguments": {},
              "data": "<div class=\"ansiout\"></div>",
              "datasetInfos": [],
              "removedWidgets": [],
              "type": "html"
            }
          }
        }
      ]
    },
    {
      "cell_type": "code",
      "metadata": {
        "application/vnd.databricks.v1+cell": {
          "inputWidgets": {},
          "nuid": "eef79037-be5d-446e-9650-86cd0aab01c1",
          "showTitle": false,
          "title": ""
        },
        "id": "pqTtFZFnk5U8",
        "outputId": "5880aecc-457a-4444-8ffb-9f215302bc28"
      },
      "source": [
        "pipeline = Pipeline(stages=[featureIndexer, rf, label_converter]) \n",
        "cv = CrossValidator(estimator=pipeline, estimatorParamMaps=paramGrid, evaluator=evaluator, numFolds=5, parallelism=10, seed=100)\n",
        "cvModel = cv.fit(training_data)"
      ],
      "execution_count": null,
      "outputs": [
        {
          "output_type": "display_data",
          "data": {
            "text/html": [
              "<style scoped>\n",
              "  .ansiout {\n",
              "    display: block;\n",
              "    unicode-bidi: embed;\n",
              "    white-space: pre-wrap;\n",
              "    word-wrap: break-word;\n",
              "    word-break: break-all;\n",
              "    font-family: \"Source Code Pro\", \"Menlo\", monospace;;\n",
              "    font-size: 13px;\n",
              "    color: #555;\n",
              "    margin-left: 4px;\n",
              "    line-height: 19px;\n",
              "  }\n",
              "</style>\n",
              "<div class=\"ansiout\"></div>"
            ]
          },
          "metadata": {
            "tags": [],
            "application/vnd.databricks.v1+output": {
              "addedWidgets": {},
              "arguments": {},
              "data": "<div class=\"ansiout\"></div>",
              "datasetInfos": [],
              "removedWidgets": [],
              "type": "html"
            }
          }
        }
      ]
    },
    {
      "cell_type": "code",
      "metadata": {
        "application/vnd.databricks.v1+cell": {
          "inputWidgets": {},
          "nuid": "4f972911-571e-472e-91f0-5ee17f911f4f",
          "showTitle": false,
          "title": ""
        },
        "id": "T60KWxP8k5U8",
        "outputId": "ec71415d-484a-40bc-bd30-8d465e3d759a"
      },
      "source": [
        "predictions = cvModel.transform(test_data)\n",
        "# Evaluate the best model\n",
        "evaluator = MulticlassClassificationEvaluator(labelCol=\"indexedLabel\", predictionCol=\"prediction\", metricName=\"accuracy\")\n",
        "print(\"The Accuracy for test set is {}\".format(evaluator.evaluate(predictions)))"
      ],
      "execution_count": null,
      "outputs": [
        {
          "output_type": "display_data",
          "data": {
            "text/html": [
              "<style scoped>\n",
              "  .ansiout {\n",
              "    display: block;\n",
              "    unicode-bidi: embed;\n",
              "    white-space: pre-wrap;\n",
              "    word-wrap: break-word;\n",
              "    word-break: break-all;\n",
              "    font-family: \"Source Code Pro\", \"Menlo\", monospace;;\n",
              "    font-size: 13px;\n",
              "    color: #555;\n",
              "    margin-left: 4px;\n",
              "    line-height: 19px;\n",
              "  }\n",
              "</style>\n",
              "<div class=\"ansiout\">The Accuracy for test set is 0.8094180364282542\n",
              "</div>"
            ]
          },
          "metadata": {
            "tags": [],
            "application/vnd.databricks.v1+output": {
              "addedWidgets": {},
              "arguments": {},
              "data": "<div class=\"ansiout\">The Accuracy for test set is 0.8094180364282542\n</div>",
              "datasetInfos": [],
              "removedWidgets": [],
              "type": "html"
            }
          }
        }
      ]
    },
    {
      "cell_type": "code",
      "metadata": {
        "application/vnd.databricks.v1+cell": {
          "inputWidgets": {},
          "nuid": "446f482c-969e-4575-87ce-a5a3c9b8300a",
          "showTitle": false,
          "title": ""
        },
        "id": "oPynvuUhk5U8",
        "outputId": "2ef1e113-8cc6-43d9-b824-d6fcaec70da4"
      },
      "source": [
        "predictionAndLabel = predictions.select(\"prediction\", \"indexedLabel\").rdd\n",
        "\n",
        "# Instantiate metrics object \n",
        "metricsMulti = MulticlassMetrics(predictionAndLabel)\n",
        "metricsBinary= BinaryClassificationMetrics(predictionAndLabel)\n",
        "# Overall statistics \n",
        "confusionMatrix = metricsMulti.confusionMatrix()\n",
        "precision = metricsMulti.precision(label=1) \n",
        "recall = metricsMulti.recall(label=1) \n",
        "print(\"Summary Stats\")\n",
        "print(\"Confusion Matrix = \\n %s\" % confusionMatrix)\n",
        "print(\"Precision = %s\" % precision) \n",
        "print(\"Recall = %s\" % recall)  "
      ],
      "execution_count": null,
      "outputs": [
        {
          "output_type": "display_data",
          "data": {
            "text/html": [
              "<style scoped>\n",
              "  .ansiout {\n",
              "    display: block;\n",
              "    unicode-bidi: embed;\n",
              "    white-space: pre-wrap;\n",
              "    word-wrap: break-word;\n",
              "    word-break: break-all;\n",
              "    font-family: \"Source Code Pro\", \"Menlo\", monospace;;\n",
              "    font-size: 13px;\n",
              "    color: #555;\n",
              "    margin-left: 4px;\n",
              "    line-height: 19px;\n",
              "  }\n",
              "</style>\n",
              "<div class=\"ansiout\">Summary Stats\n",
              "Confusion Matrix = \n",
              " DenseMatrix([[970., 224.],\n",
              "             [205., 852.]])\n",
              "Precision = 0.79182156133829\n",
              "Recall = 0.8060548722800378\n",
              "</div>"
            ]
          },
          "metadata": {
            "tags": [],
            "application/vnd.databricks.v1+output": {
              "addedWidgets": {},
              "arguments": {},
              "data": "<div class=\"ansiout\">Summary Stats\nConfusion Matrix = \n DenseMatrix([[970., 224.],\n             [205., 852.]])\nPrecision = 0.79182156133829\nRecall = 0.8060548722800378\n</div>",
              "datasetInfos": [],
              "removedWidgets": [],
              "type": "html"
            }
          }
        }
      ]
    },
    {
      "cell_type": "code",
      "metadata": {
        "application/vnd.databricks.v1+cell": {
          "inputWidgets": {},
          "nuid": "aaa39555-5899-4294-be71-14b528028fdc",
          "showTitle": false,
          "title": ""
        },
        "id": "DrFpyHYXk5U9",
        "outputId": "5a74510b-5b5c-44fb-882a-1856aadf1e42"
      },
      "source": [
        "print(\"Area under PR = %s\" % metricsBinary.areaUnderPR) \n",
        "# Area under ROC curve \n",
        "print(\"Area under ROC = %s\" % metricsBinary.areaUnderROC)"
      ],
      "execution_count": null,
      "outputs": [
        {
          "output_type": "display_data",
          "data": {
            "text/html": [
              "<style scoped>\n",
              "  .ansiout {\n",
              "    display: block;\n",
              "    unicode-bidi: embed;\n",
              "    white-space: pre-wrap;\n",
              "    word-wrap: break-word;\n",
              "    word-break: break-all;\n",
              "    font-family: \"Source Code Pro\", \"Menlo\", monospace;;\n",
              "    font-size: 13px;\n",
              "    color: #555;\n",
              "    margin-left: 4px;\n",
              "    line-height: 19px;\n",
              "  }\n",
              "</style>\n",
              "<div class=\"ansiout\">Area under PR = 0.7605719120523087\n",
              "Area under ROC = 0.8092250910813924\n",
              "</div>"
            ]
          },
          "metadata": {
            "tags": [],
            "application/vnd.databricks.v1+output": {
              "addedWidgets": {},
              "arguments": {},
              "data": "<div class=\"ansiout\">Area under PR = 0.7605719120523087\nArea under ROC = 0.8092250910813924\n</div>",
              "datasetInfos": [],
              "removedWidgets": [],
              "type": "html"
            }
          }
        }
      ]
    },
    {
      "cell_type": "code",
      "metadata": {
        "application/vnd.databricks.v1+cell": {
          "inputWidgets": {},
          "nuid": "daccb475-e2d5-4216-b5e7-22df96f6e6be",
          "showTitle": false,
          "title": ""
        },
        "id": "oP-jYOeAk5U9",
        "outputId": "5775b922-71eb-4ff4-e063-b75307e4edfb"
      },
      "source": [
        "evaluator = BinaryClassificationEvaluator(rawPredictionCol=\"prediction\",labelCol=\"indexedLabel\")\n",
        "print(\"The area under ROC for test set is {}\".format(evaluator.evaluate(predictions)))"
      ],
      "execution_count": null,
      "outputs": [
        {
          "output_type": "display_data",
          "data": {
            "text/html": [
              "<style scoped>\n",
              "  .ansiout {\n",
              "    display: block;\n",
              "    unicode-bidi: embed;\n",
              "    white-space: pre-wrap;\n",
              "    word-wrap: break-word;\n",
              "    word-break: break-all;\n",
              "    font-family: \"Source Code Pro\", \"Menlo\", monospace;;\n",
              "    font-size: 13px;\n",
              "    color: #555;\n",
              "    margin-left: 4px;\n",
              "    line-height: 19px;\n",
              "  }\n",
              "</style>\n",
              "<div class=\"ansiout\">The area under ROC for test set is 0.8092250910813924\n",
              "</div>"
            ]
          },
          "metadata": {
            "tags": [],
            "application/vnd.databricks.v1+output": {
              "addedWidgets": {},
              "arguments": {},
              "data": "<div class=\"ansiout\">The area under ROC for test set is 0.8092250910813924\n</div>",
              "datasetInfos": [],
              "removedWidgets": [],
              "type": "html"
            }
          }
        }
      ]
    },
    {
      "cell_type": "code",
      "metadata": {
        "application/vnd.databricks.v1+cell": {
          "inputWidgets": {},
          "nuid": "966f5682-903b-4011-a66f-958f62a73434",
          "showTitle": false,
          "title": ""
        },
        "id": "5xvANTuuk5U9",
        "outputId": "45c91627-0991-4d90-92be-1628d870b24b"
      },
      "source": [
        "# The data provided here are related with direct marketing campaigns (phone calls) of a Portuguese banking institution. \r\n",
        "# Three main algorithm classifiers are tested which are Logistic regression, Decision trees and Random forest. \r\n",
        "# Different metrics are computed after hyperparameter tunings using 5-fold cross validation to evaluate the models corresponding to these algorithms."
      ],
      "execution_count": null,
      "outputs": [
        {
          "output_type": "display_data",
          "data": {
            "text/html": [
              "<style scoped>\n",
              "  .ansiout {\n",
              "    display: block;\n",
              "    unicode-bidi: embed;\n",
              "    white-space: pre-wrap;\n",
              "    word-wrap: break-word;\n",
              "    word-break: break-all;\n",
              "    font-family: \"Source Code Pro\", \"Menlo\", monospace;;\n",
              "    font-size: 13px;\n",
              "    color: #555;\n",
              "    margin-left: 4px;\n",
              "    line-height: 19px;\n",
              "  }\n",
              "</style>\n",
              "<div class=\"ansiout\"></div>"
            ]
          },
          "metadata": {
            "tags": [],
            "application/vnd.databricks.v1+output": {
              "addedWidgets": {},
              "arguments": {},
              "data": "<div class=\"ansiout\"></div>",
              "datasetInfos": [],
              "removedWidgets": [],
              "type": "html"
            }
          }
        }
      ]
    }
  ]
}